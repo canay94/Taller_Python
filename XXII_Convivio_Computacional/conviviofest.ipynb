{
 "cells": [
  {
   "cell_type": "markdown",
   "id": "87cb3d7b",
   "metadata": {},
   "source": [
    "Este es mi primer programa en Python - Hola mundo"
   ]
  },
  {
   "cell_type": "code",
   "execution_count": 3,
   "id": "c2a94f81",
   "metadata": {},
   "outputs": [
    {
     "ename": "SyntaxError",
     "evalue": "invalid syntax (Temp/ipykernel_10300/1683892615.py, line 6)",
     "output_type": "error",
     "traceback": [
      "\u001b[1;36m  File \u001b[1;32m\"C:\\Users\\arico\\AppData\\Local\\Temp/ipykernel_10300/1683892615.py\"\u001b[1;36m, line \u001b[1;32m6\u001b[0m\n\u001b[1;33m    print(\"Hola mundo\");\u001b[0m\n\u001b[1;37m                       ^\u001b[0m\n\u001b[1;31mSyntaxError\u001b[0m\u001b[1;31m:\u001b[0m invalid syntax\n"
     ]
    }
   ],
   "source": [
    "#include<stdio.h>\n",
    "#include<math.h>\n",
    "\n",
    "main()\n",
    "{\n",
    "    print(\"Hola mundo\");\n",
    "}"
   ]
  },
  {
   "cell_type": "code",
   "execution_count": 6,
   "id": "4e5c09fc",
   "metadata": {},
   "outputs": [
    {
     "name": "stdout",
     "output_type": "stream",
     "text": [
      "Hola mundo !!!\n"
     ]
    }
   ],
   "source": [
    "# para salida de datos\n",
    "print(\"Hola mundo !!!\")"
   ]
  },
  {
   "cell_type": "code",
   "execution_count": 7,
   "id": "08457aa8",
   "metadata": {},
   "outputs": [
    {
     "name": "stdout",
     "output_type": "stream",
     "text": [
      "¿Cuál es tu nombre?\n",
      "Alejandro\n",
      "Que bueno y entraste al taller de Python:\n"
     ]
    }
   ],
   "source": [
    "# para entrada de datos\n",
    "print(\"¿Cuál es tu nombre?\")\n",
    "nombre = input()\n",
    "print(\"Que bueno y entraste al taller de Python:\")\n"
   ]
  },
  {
   "cell_type": "code",
   "execution_count": 8,
   "id": "b87b1109",
   "metadata": {},
   "outputs": [
    {
     "name": "stdout",
     "output_type": "stream",
     "text": [
      "¿Cuál es tu nombre?\n",
      "Alejandro\n",
      "Que bueno y entraste al taller de Python: Alejandro\n"
     ]
    }
   ],
   "source": [
    "# para entrada de datos\n",
    "print(\"¿Cuál es tu nombre?\")\n",
    "nombre = input()\n",
    "print(\"Que bueno y entraste al taller de Python:\", nombre)"
   ]
  },
  {
   "cell_type": "code",
   "execution_count": 9,
   "id": "ac9f6026",
   "metadata": {},
   "outputs": [
    {
     "name": "stdout",
     "output_type": "stream",
     "text": [
      "¿Cuál es tu nombre?\n",
      "César\n",
      "Que bueno y entraste al taller de Python: César  espacio: César\n"
     ]
    }
   ],
   "source": [
    "# para entrada de datos\n",
    "print('¿Cuál es tu nombre?')\n",
    "nombre = input()\n",
    "print('Que bueno y entraste al taller de Python:', nombre, ' espacio:', nombre)"
   ]
  },
  {
   "cell_type": "code",
   "execution_count": 11,
   "id": "6462db13",
   "metadata": {},
   "outputs": [
    {
     "name": "stdout",
     "output_type": "stream",
     "text": [
      "Dame tu nombre:César\n",
      "César  Que bueno y entraste al taller de Python\n"
     ]
    }
   ],
   "source": [
    "# lo más común para entrada de datos\n",
    "nombre = input('Dame tu nombre:')\n",
    "print(nombre, ' Que bueno y entraste al taller de Python');"
   ]
  },
  {
   "cell_type": "code",
   "execution_count": 12,
   "id": "da90d7f4",
   "metadata": {},
   "outputs": [
    {
     "name": "stdout",
     "output_type": "stream",
     "text": [
      "Cuántos puntos te van a dar por el Taller de Python:3\n",
      "Me van a dar:  3  puntos \n"
     ]
    }
   ],
   "source": [
    "# lo más común para entrada de datos\n",
    "puntos = input('Cuántos puntos te van a dar por el Taller de Python:')\n",
    "print('Me van a dar: ',puntos, ' puntos ');"
   ]
  },
  {
   "cell_type": "code",
   "execution_count": 13,
   "id": "247d00b0",
   "metadata": {},
   "outputs": [
    {
     "name": "stdout",
     "output_type": "stream",
     "text": [
      "Dame el valor de a: 20\n",
      "Dame el valor de b: 30\n",
      "El resultado es:  2030\n"
     ]
    }
   ],
   "source": [
    "# programa para sumar dos números\n",
    "a = input('Dame el valor de a: ')\n",
    "b = input('Dame el valor de b: ')\n",
    "resultado = a + b\n",
    "print('El resultado es: ', resultado)"
   ]
  },
  {
   "cell_type": "code",
   "execution_count": 14,
   "id": "9e7a0f02",
   "metadata": {},
   "outputs": [
    {
     "name": "stdout",
     "output_type": "stream",
     "text": [
      "Dame el valor de a: Alejandro\n",
      "Dame el valor de b:  César\n",
      "El resultado es:  Alejandro César\n"
     ]
    }
   ],
   "source": [
    "# programa para sumar dos números\n",
    "a = input('Dame el valor de a: ')\n",
    "b = input('Dame el valor de b: ')\n",
    "resultado = a + b\n",
    "print('El resultado es: ', resultado)"
   ]
  },
  {
   "cell_type": "code",
   "execution_count": 15,
   "id": "e9608883",
   "metadata": {},
   "outputs": [
    {
     "name": "stdout",
     "output_type": "stream",
     "text": [
      "Dame el valor de a: 20\n",
      "Dame el valor de b: 30\n",
      "El resultado es:  50\n"
     ]
    }
   ],
   "source": [
    "# programa para sumar dos números\n",
    "a = int(input('Dame el valor de a: '))\n",
    "b = int(input('Dame el valor de b: '))\n",
    "resultado = a + b\n",
    "print('El resultado es: ', resultado)"
   ]
  },
  {
   "cell_type": "code",
   "execution_count": 16,
   "id": "dc83e318",
   "metadata": {},
   "outputs": [
    {
     "name": "stdout",
     "output_type": "stream",
     "text": [
      "Dame el valor de a: 20\n",
      "Dame el valor de b: 30\n"
     ]
    },
    {
     "ename": "TypeError",
     "evalue": "unsupported operand type(s) for +: 'int' and 'str'",
     "output_type": "error",
     "traceback": [
      "\u001b[1;31m---------------------------------------------------------------------------\u001b[0m",
      "\u001b[1;31mTypeError\u001b[0m                                 Traceback (most recent call last)",
      "\u001b[1;32m~\\AppData\\Local\\Temp/ipykernel_10300/2556197161.py\u001b[0m in \u001b[0;36m<module>\u001b[1;34m\u001b[0m\n\u001b[0;32m      2\u001b[0m \u001b[0ma\u001b[0m \u001b[1;33m=\u001b[0m \u001b[0mint\u001b[0m\u001b[1;33m(\u001b[0m\u001b[0minput\u001b[0m\u001b[1;33m(\u001b[0m\u001b[1;34m'Dame el valor de a: '\u001b[0m\u001b[1;33m)\u001b[0m\u001b[1;33m)\u001b[0m\u001b[1;33m\u001b[0m\u001b[1;33m\u001b[0m\u001b[0m\n\u001b[0;32m      3\u001b[0m \u001b[0mb\u001b[0m \u001b[1;33m=\u001b[0m \u001b[0minput\u001b[0m\u001b[1;33m(\u001b[0m\u001b[1;34m'Dame el valor de b: '\u001b[0m\u001b[1;33m)\u001b[0m\u001b[1;33m\u001b[0m\u001b[1;33m\u001b[0m\u001b[0m\n\u001b[1;32m----> 4\u001b[1;33m \u001b[0mresultado\u001b[0m \u001b[1;33m=\u001b[0m \u001b[0ma\u001b[0m \u001b[1;33m+\u001b[0m \u001b[0mb\u001b[0m\u001b[1;33m\u001b[0m\u001b[1;33m\u001b[0m\u001b[0m\n\u001b[0m\u001b[0;32m      5\u001b[0m \u001b[0mprint\u001b[0m\u001b[1;33m(\u001b[0m\u001b[1;34m'El resultado es: '\u001b[0m\u001b[1;33m,\u001b[0m \u001b[0mresultado\u001b[0m\u001b[1;33m)\u001b[0m\u001b[1;33m\u001b[0m\u001b[1;33m\u001b[0m\u001b[0m\n",
      "\u001b[1;31mTypeError\u001b[0m: unsupported operand type(s) for +: 'int' and 'str'"
     ]
    }
   ],
   "source": [
    "# programa para sumar dos números\n",
    "a = int(input('Dame el valor de a: '))\n",
    "b = input('Dame el valor de b: ')\n",
    "resultado = a + b\n",
    "print('El resultado es: ', resultado)"
   ]
  },
  {
   "cell_type": "code",
   "execution_count": 18,
   "id": "24c9477f",
   "metadata": {},
   "outputs": [
    {
     "name": "stdout",
     "output_type": "stream",
     "text": [
      "Dame el valor de a: 10.5\n"
     ]
    },
    {
     "ename": "ValueError",
     "evalue": "invalid literal for int() with base 10: '10.5'",
     "output_type": "error",
     "traceback": [
      "\u001b[1;31m---------------------------------------------------------------------------\u001b[0m",
      "\u001b[1;31mValueError\u001b[0m                                Traceback (most recent call last)",
      "\u001b[1;32m~\\AppData\\Local\\Temp/ipykernel_10300/28266420.py\u001b[0m in \u001b[0;36m<module>\u001b[1;34m\u001b[0m\n\u001b[0;32m      1\u001b[0m \u001b[1;31m# programa para sumar dos números\u001b[0m\u001b[1;33m\u001b[0m\u001b[1;33m\u001b[0m\u001b[1;33m\u001b[0m\u001b[0m\n\u001b[1;32m----> 2\u001b[1;33m \u001b[0ma\u001b[0m \u001b[1;33m=\u001b[0m \u001b[0mint\u001b[0m\u001b[1;33m(\u001b[0m\u001b[0minput\u001b[0m\u001b[1;33m(\u001b[0m\u001b[1;34m'Dame el valor de a: '\u001b[0m\u001b[1;33m)\u001b[0m\u001b[1;33m)\u001b[0m\u001b[1;33m\u001b[0m\u001b[1;33m\u001b[0m\u001b[0m\n\u001b[0m\u001b[0;32m      3\u001b[0m \u001b[0mb\u001b[0m \u001b[1;33m=\u001b[0m \u001b[0mint\u001b[0m\u001b[1;33m(\u001b[0m\u001b[0minput\u001b[0m\u001b[1;33m(\u001b[0m\u001b[1;34m'Dame el valor de b: '\u001b[0m\u001b[1;33m)\u001b[0m\u001b[1;33m)\u001b[0m\u001b[1;33m\u001b[0m\u001b[1;33m\u001b[0m\u001b[0m\n\u001b[0;32m      4\u001b[0m \u001b[0mresultado\u001b[0m \u001b[1;33m=\u001b[0m \u001b[0ma\u001b[0m \u001b[1;33m+\u001b[0m \u001b[0mb\u001b[0m\u001b[1;33m\u001b[0m\u001b[1;33m\u001b[0m\u001b[0m\n\u001b[0;32m      5\u001b[0m \u001b[0mprint\u001b[0m\u001b[1;33m(\u001b[0m\u001b[1;34m'El resultado es: '\u001b[0m\u001b[1;33m,\u001b[0m \u001b[0mresultado\u001b[0m\u001b[1;33m)\u001b[0m\u001b[1;33m\u001b[0m\u001b[1;33m\u001b[0m\u001b[0m\n",
      "\u001b[1;31mValueError\u001b[0m: invalid literal for int() with base 10: '10.5'"
     ]
    }
   ],
   "source": [
    "# programa para sumar dos números\n",
    "a = int(input('Dame el valor de a: '))\n",
    "b = int(input('Dame el valor de b: '))\n",
    "resultado = a + b\n",
    "print('El resultado es: ', resultado)"
   ]
  },
  {
   "cell_type": "code",
   "execution_count": 19,
   "id": "28c5ce03",
   "metadata": {},
   "outputs": [
    {
     "name": "stdout",
     "output_type": "stream",
     "text": [
      "Dame el valor de a: 10.5\n",
      "Dame el valor de b: 2.3\n",
      "El resultado es:  12.8\n"
     ]
    }
   ],
   "source": [
    "# programa para sumar dos números\n",
    "a = float(input('Dame el valor de a: '))\n",
    "b = float(input('Dame el valor de b: '))\n",
    "resultado = a + b\n",
    "print('El resultado es: ', resultado)"
   ]
  },
  {
   "cell_type": "code",
   "execution_count": 20,
   "id": "b3dfa44f",
   "metadata": {},
   "outputs": [
    {
     "name": "stdout",
     "output_type": "stream",
     "text": [
      "Dame el valor de x: 10.5\n",
      "Dame el valor de y: 2.3\n",
      "El resultado es:  12.8\n"
     ]
    }
   ],
   "source": [
    "# programa para sumar dos números\n",
    "x = input('Dame el valor de x: ')\n",
    "y = input('Dame el valor de y: ')\n",
    "resultado = float(x) + float(y)\n",
    "print('El resultado es: ', resultado)"
   ]
  },
  {
   "cell_type": "code",
   "execution_count": 21,
   "id": "71610eb8",
   "metadata": {},
   "outputs": [],
   "source": [
    "# Funciones\n",
    "def saludo():\n",
    "    print(\"Hola mundo\")\n",
    "    "
   ]
  },
  {
   "cell_type": "code",
   "execution_count": 22,
   "id": "57cf026f",
   "metadata": {},
   "outputs": [
    {
     "name": "stdout",
     "output_type": "stream",
     "text": [
      "Hola mundo\n"
     ]
    }
   ],
   "source": [
    "saludo()"
   ]
  },
  {
   "cell_type": "code",
   "execution_count": 23,
   "id": "1239ec90",
   "metadata": {},
   "outputs": [],
   "source": [
    "def anuncio():\n",
    "    print('Bienvenido(a) a mi programa')"
   ]
  },
  {
   "cell_type": "code",
   "execution_count": 24,
   "id": "4465e892",
   "metadata": {},
   "outputs": [],
   "source": [
    "def pedir_datos():\n",
    "    x = input('Dame el valor de x: ')\n",
    "    y = input('Dame el valor de y: ')\n",
    "    resultado = float(x) + float(y)\n",
    "    print(resultado)"
   ]
  },
  {
   "cell_type": "code",
   "execution_count": 25,
   "id": "c0e6413a",
   "metadata": {},
   "outputs": [
    {
     "name": "stdout",
     "output_type": "stream",
     "text": [
      "Bienvenido(a) a mi programa\n"
     ]
    }
   ],
   "source": [
    "anuncio()"
   ]
  },
  {
   "cell_type": "code",
   "execution_count": 26,
   "id": "de0978ba",
   "metadata": {},
   "outputs": [
    {
     "name": "stdout",
     "output_type": "stream",
     "text": [
      "Dame el valor de x: 10.5\n",
      "Dame el valor de y: 2.3\n",
      "12.8\n"
     ]
    }
   ],
   "source": [
    "pedir_datos()"
   ]
  },
  {
   "cell_type": "code",
   "execution_count": 27,
   "id": "074682a4",
   "metadata": {},
   "outputs": [
    {
     "name": "stdout",
     "output_type": "stream",
     "text": [
      "Bienvenido(a) a mi programa\n",
      "Dame el valor de x: 2.3\n",
      "Dame el valor de y: 3.4\n",
      "5.699999999999999\n"
     ]
    }
   ],
   "source": [
    "anuncio()\n",
    "pedir_datos()"
   ]
  },
  {
   "cell_type": "code",
   "execution_count": 28,
   "id": "bf52ee99",
   "metadata": {},
   "outputs": [
    {
     "name": "stdout",
     "output_type": "stream",
     "text": [
      "Bienvenido(a) a mi programa\n",
      "Dame el valor de x: 2.2\n",
      "Dame el valor de y: 1.2\n",
      "3.4000000000000004\n",
      "Dame el valor de x: 2.3\n",
      "Dame el valor de y: 2.3\n",
      "4.6\n"
     ]
    }
   ],
   "source": [
    "anuncio()\n",
    "pedir_datos()\n",
    "pedir_datos()"
   ]
  },
  {
   "cell_type": "code",
   "execution_count": 29,
   "id": "9e29ce2b",
   "metadata": {},
   "outputs": [],
   "source": [
    "def programa():\n",
    "    anuncio()\n",
    "    pedir_datos()"
   ]
  },
  {
   "cell_type": "code",
   "execution_count": 30,
   "id": "c393b417",
   "metadata": {},
   "outputs": [
    {
     "name": "stdout",
     "output_type": "stream",
     "text": [
      "Bienvenido(a) a mi programa\n",
      "Dame el valor de x: 3.4\n",
      "Dame el valor de y: 4.5\n",
      "7.9\n"
     ]
    }
   ],
   "source": [
    "programa()"
   ]
  },
  {
   "cell_type": "code",
   "execution_count": 31,
   "id": "8c0accd1",
   "metadata": {},
   "outputs": [],
   "source": [
    "def saludar(nombre):\n",
    "    print('Hola ', nombre, ' ¿cómo estas?')\n",
    "    "
   ]
  },
  {
   "cell_type": "code",
   "execution_count": 32,
   "id": "50514c88",
   "metadata": {},
   "outputs": [
    {
     "name": "stdout",
     "output_type": "stream",
     "text": [
      "Hola  Alejandro  ¿cómo estas?\n"
     ]
    }
   ],
   "source": [
    "saludar('Alejandro')"
   ]
  },
  {
   "cell_type": "code",
   "execution_count": 33,
   "id": "026d88ec",
   "metadata": {},
   "outputs": [],
   "source": [
    "def sumar(a,b):\n",
    "    r = float(a) + float(b)\n",
    "    print(r)"
   ]
  },
  {
   "cell_type": "code",
   "execution_count": 34,
   "id": "5f9d7e68",
   "metadata": {},
   "outputs": [
    {
     "name": "stdout",
     "output_type": "stream",
     "text": [
      "7.5\n"
     ]
    }
   ],
   "source": [
    "sumar(4.3, 3.2)"
   ]
  },
  {
   "cell_type": "code",
   "execution_count": 35,
   "id": "aa1de12e",
   "metadata": {},
   "outputs": [
    {
     "ename": "SyntaxError",
     "evalue": "invalid syntax (Temp/ipykernel_10300/3514339606.py, line 3)",
     "output_type": "error",
     "traceback": [
      "\u001b[1;36m  File \u001b[1;32m\"C:\\Users\\arico\\AppData\\Local\\Temp/ipykernel_10300/3514339606.py\"\u001b[1;36m, line \u001b[1;32m3\u001b[0m\n\u001b[1;33m    b = input(?Dame el valor de b: ')\u001b[0m\n\u001b[1;37m              ^\u001b[0m\n\u001b[1;31mSyntaxError\u001b[0m\u001b[1;31m:\u001b[0m invalid syntax\n"
     ]
    }
   ],
   "source": [
    "def inicio():\n",
    "    a = input('Dame el valor de a: ')\n",
    "    b = input(?Dame el valor de b: ')\n",
    "    sumar(a,b)"
   ]
  },
  {
   "cell_type": "code",
   "execution_count": 36,
   "id": "e8034b50",
   "metadata": {},
   "outputs": [],
   "source": [
    "def inicio():\n",
    "    a = input('Dame el valor de a: ')\n",
    "    b = input('Dame el valor de b: ')\n",
    "    sumar(a,b)"
   ]
  },
  {
   "cell_type": "code",
   "execution_count": 37,
   "id": "9fddb51a",
   "metadata": {},
   "outputs": [
    {
     "name": "stdout",
     "output_type": "stream",
     "text": [
      "Dame el valor de a: 2.3\n",
      "Dame el valor de b: 3.2\n",
      "5.5\n"
     ]
    }
   ],
   "source": [
    "inicio()"
   ]
  },
  {
   "cell_type": "code",
   "execution_count": 38,
   "id": "9104a3dd",
   "metadata": {},
   "outputs": [],
   "source": [
    "def restar(a,b):\n",
    "    r = float(a) - float(b)\n",
    "    print(r)"
   ]
  },
  {
   "cell_type": "code",
   "execution_count": 39,
   "id": "83f285b2",
   "metadata": {},
   "outputs": [],
   "source": [
    "def inicio():\n",
    "    a = input('Dame el valor de a: ')\n",
    "    b = input('Dame el valor de b: ')\n",
    "    sumar(a,b)\n",
    "    restar(a,b)"
   ]
  },
  {
   "cell_type": "code",
   "execution_count": 40,
   "id": "79db81af",
   "metadata": {},
   "outputs": [
    {
     "name": "stdout",
     "output_type": "stream",
     "text": [
      "Dame el valor de a: 3.5\n",
      "Dame el valor de b: 2.3\n",
      "5.8\n",
      "1.2000000000000002\n"
     ]
    }
   ],
   "source": [
    "inicio()"
   ]
  },
  {
   "cell_type": "code",
   "execution_count": 41,
   "id": "063f100d",
   "metadata": {},
   "outputs": [],
   "source": [
    "def restar(a,b):\n",
    "    r = float(a) * float(b)\n",
    "    print(r)"
   ]
  },
  {
   "cell_type": "code",
   "execution_count": 42,
   "id": "792bd4c9",
   "metadata": {},
   "outputs": [
    {
     "name": "stdout",
     "output_type": "stream",
     "text": [
      "Dame el valor de a: 3.5\n",
      "Dame el valor de b: 2.3\n",
      "5.8\n",
      "8.049999999999999\n"
     ]
    }
   ],
   "source": [
    "inicio()"
   ]
  },
  {
   "cell_type": "code",
   "execution_count": 43,
   "id": "5a4ce1be",
   "metadata": {},
   "outputs": [
    {
     "name": "stdout",
     "output_type": "stream",
     "text": [
      "6.0\n"
     ]
    }
   ],
   "source": [
    "restar(3,2)"
   ]
  },
  {
   "cell_type": "code",
   "execution_count": 44,
   "id": "417c37c9",
   "metadata": {},
   "outputs": [
    {
     "name": "stdout",
     "output_type": "stream",
     "text": [
      "18.0\n"
     ]
    }
   ],
   "source": [
    "sumar(8,10)"
   ]
  },
  {
   "cell_type": "code",
   "execution_count": null,
   "id": "fef84653",
   "metadata": {},
   "outputs": [],
   "source": []
  }
 ],
 "metadata": {
  "kernelspec": {
   "display_name": "Python 3 (ipykernel)",
   "language": "python",
   "name": "python3"
  },
  "language_info": {
   "codemirror_mode": {
    "name": "ipython",
    "version": 3
   },
   "file_extension": ".py",
   "mimetype": "text/x-python",
   "name": "python",
   "nbconvert_exporter": "python",
   "pygments_lexer": "ipython3",
   "version": "3.9.6"
  }
 },
 "nbformat": 4,
 "nbformat_minor": 5
}
