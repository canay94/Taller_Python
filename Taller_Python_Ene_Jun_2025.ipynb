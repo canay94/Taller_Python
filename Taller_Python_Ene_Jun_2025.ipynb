{
  "nbformat": 4,
  "nbformat_minor": 0,
  "metadata": {
    "colab": {
      "provenance": [],
      "authorship_tag": "ABX9TyPIv6VqS+pMwJ8hbR9Kcjt8",
      "include_colab_link": true
    },
    "kernelspec": {
      "name": "python3",
      "display_name": "Python 3"
    },
    "language_info": {
      "name": "python"
    }
  },
  "cells": [
    {
      "cell_type": "markdown",
      "metadata": {
        "id": "view-in-github",
        "colab_type": "text"
      },
      "source": [
        "<a href=\"https://colab.research.google.com/github/canay94/Taller_Python_Ago_Dic_2021/blob/main/Taller_Python_Ene_Jun_2025.ipynb\" target=\"_parent\"><img src=\"https://colab.research.google.com/assets/colab-badge.svg\" alt=\"Open In Colab\"/></a>"
      ]
    },
    {
      "cell_type": "markdown",
      "source": [
        "**Desarrollar** un programa en Python que *convierta de kilometros a millas.*\n",
        "Debe solicitar los kilómetros recorridos y después mostrar el resultado en millas.\n",
        "Para convertir de kilómétros a millas, debemos multiplicar los kilómetros por 0.621371"
      ],
      "metadata": {
        "id": "pg_84T2xItqc"
      }
    },
    {
      "cell_type": "markdown",
      "source": [
        "pseudo algoritmo\n",
        "\n",
        "1.- Solicitar el número de kilómetros recorridos\n",
        "\n",
        "2.- Realizar la operación de multiplicar los kilómetros por el factor 0.621371\n",
        "\n",
        "3.- Guardar el resultado en una variable\n",
        "\n",
        "4.-Mostrar el resultado obtenido\n"
      ],
      "metadata": {
        "id": "LhJC9kuMI2EI"
      }
    },
    {
      "cell_type": "code",
      "source": [
        "# 1.- Solicitar los kilómetros\n",
        "kilometros = float(input(\"Ingrese la cantidad de kilómetros recorridos: \"))"
      ],
      "metadata": {
        "colab": {
          "base_uri": "https://localhost:8080/"
        },
        "id": "jw9Dkgh-KjX9",
        "outputId": "2ad7f27e-3308-4dbc-c545-8f87c798a0b6"
      },
      "execution_count": null,
      "outputs": [
        {
          "name": "stdout",
          "output_type": "stream",
          "text": [
            "Ingrese la cantidad de kilómetros recorridos: 10\n"
          ]
        }
      ]
    },
    {
      "cell_type": "markdown",
      "source": [],
      "metadata": {
        "id": "nLMyoWq7KYxk"
      }
    },
    {
      "cell_type": "code",
      "source": [
        "# 1.- Solicitar los kilómetros\n",
        "kilometros = float(input(\"Ingrese la cantidad de kilómetros recorridos: \"))\n",
        "# 2.- Realizar la operación de multiplicar los kilómetros por el factor 0.621371\n",
        "# 3.- Guardar el resultado en una variable\n",
        "millas = kilometros * 0.621371\n"
      ],
      "metadata": {
        "colab": {
          "base_uri": "https://localhost:8080/"
        },
        "id": "YEGpXYbHMyPy",
        "outputId": "acbe233d-256c-4c1e-c735-50eba9758c72"
      },
      "execution_count": null,
      "outputs": [
        {
          "name": "stdout",
          "output_type": "stream",
          "text": [
            "Ingrese la cantidad de kilómetros recorridos: 10\n"
          ]
        }
      ]
    },
    {
      "cell_type": "code",
      "source": [
        "# 1.- Solicitar los kilómetros\n",
        "kilometros = float(input(\"Ingrese la cantidad de kilómetros recorridos: \"))\n",
        "# 2.- Realizar la operación de multiplicar los kilómetros por el factor 0.621371\n",
        "# 3.- Guardar el resultado en una variable\n",
        "millas = kilometros * 0.621371\n",
        "# 4.- Mostrar el resultado\n",
        "print(\"La cantidad de millas recorridas es:\", millas)\n"
      ],
      "metadata": {
        "colab": {
          "base_uri": "https://localhost:8080/"
        },
        "id": "KkSkBzedNrIQ",
        "outputId": "7d0a7fcd-d87d-4cce-f5f4-7d904e7cb728"
      },
      "execution_count": null,
      "outputs": [
        {
          "output_type": "stream",
          "name": "stdout",
          "text": [
            "Ingrese la cantidad de kilómetros recorridos: 10\n",
            "La cantidad de millas recorridas es: 6.21371\n"
          ]
        }
      ]
    },
    {
      "cell_type": "code",
      "source": [
        "# 1.- Solicitar los kilómetros\n",
        "kilometros = float(input(\"Ingrese la cantidad de kilómetros recorridos: \"))\n",
        "# 2.- Realizar la operación de multiplicar los kilómetros por el factor 0.621371\n",
        "# 3.- Guardar el resultado en una variable\n",
        "millas = kilometros * 0.621371\n",
        "# 4.- Mostrar el resultado\n",
        "print(\"Las millas que corriste son:  %.2f equivalente a  %.3f kilómetros\" %(millas, kilometros))"
      ],
      "metadata": {
        "colab": {
          "base_uri": "https://localhost:8080/"
        },
        "id": "B-i-tyi-OiEp",
        "outputId": "e4020fc6-cc58-44b6-b95a-4736aaceb2c7"
      },
      "execution_count": null,
      "outputs": [
        {
          "output_type": "stream",
          "name": "stdout",
          "text": [
            "Ingrese la cantidad de kilómetros recorridos: 5\n",
            "Las millas que corriste son:  3.11 equivalente a  5.000 kilómetros\n"
          ]
        }
      ]
    },
    {
      "cell_type": "markdown",
      "source": [
        "24070397 Vanesa Rodríguez Ortiz\n",
        "24070373 Ángel del Ángel Ramos\n",
        "24070183 Mireya Livet Espinoza Zarate\n",
        "24070177 Michelle Emiliano Longoria Salazar\n",
        "24070398 R. Ivan Orta Avila\n",
        "22070441 Jorge Aurelio Secaida Salazar\n",
        "24070176 Aracely Bustamante DonJuan\n",
        "24070187 Dulce Berenice López Flores\n"
      ],
      "metadata": {
        "id": "_2wmBI_cQooS"
      }
    },
    {
      "cell_type": "markdown",
      "source": [
        "# Sesión 07/03/2025\n",
        "## if..else..elif\n"
      ],
      "metadata": {
        "id": "R2lF-RtSKcza"
      }
    },
    {
      "cell_type": "markdown",
      "source": [
        "**Desarrollar** un programa en Python que *solicite* los kilómetros corridos y *calcule* las millas correspondientes.\n",
        "**Si** las millas recorridas con mayor a cero y menor o igual a 15, que nos indique la siguiente frase \"Buen esfuerzo\".\n"
      ],
      "metadata": {
        "id": "kDFgS_IaKuRD"
      }
    },
    {
      "cell_type": "code",
      "source": [
        "# Solicitar los kilómetros\n",
        "kilometros = float(input(\"Ingrese la cantidad de kilómetros recorridos: \"))\n",
        "# Realizar la operación de multiplicar los kilómetros por el factor 0.621371\n",
        "# Guardar el resultado en una variable\n",
        "millas = kilometros * 0.621371\n",
        "# checar las condiciones\n",
        "if millas > 0 and millas <= 15:\n",
        "  print(\"Buen esfuerzo\")"
      ],
      "metadata": {
        "colab": {
          "base_uri": "https://localhost:8080/"
        },
        "id": "Ik7UYYmMN3kH",
        "outputId": "dbdd11f1-cd4a-4a55-e9c9-844df4cbedf7"
      },
      "execution_count": 2,
      "outputs": [
        {
          "name": "stdout",
          "output_type": "stream",
          "text": [
            "Ingrese la cantidad de kilómetros recorridos: 200\n"
          ]
        }
      ]
    },
    {
      "cell_type": "code",
      "source": [
        "# Solicitar los kilómetros\n",
        "kilometros = float(input(\"Ingrese la cantidad de kilómetros recorridos: \"))\n",
        "# Realizar la operación de multiplicar los kilómetros por el factor 0.621371\n",
        "# Guardar el resultado en una variable\n",
        "millas = kilometros * 0.621371\n",
        "# checar las condiciones\n",
        "if millas > 0 and millas <= 15:\n",
        "  print(\"Buen esfuerzo\")\n",
        "else:\n",
        "  print(\"Ánimo, tú ya eres un campeón\")"
      ],
      "metadata": {
        "colab": {
          "base_uri": "https://localhost:8080/"
        },
        "id": "e26SceRZO0b2",
        "outputId": "9bf108b3-f170-4d7d-b198-ca0db732271c"
      },
      "execution_count": 3,
      "outputs": [
        {
          "output_type": "stream",
          "name": "stdout",
          "text": [
            "Ingrese la cantidad de kilómetros recorridos: 200\n",
            "Ánimo, tú ya eres un campeón\n"
          ]
        }
      ]
    },
    {
      "cell_type": "markdown",
      "source": [
        "**Desarrollar** un programa en Python que *solicite* los kilómetros corridos y *calcule* las millas correspondientes.\n",
        "**Si** las millas recorridas son mayor a cero y menor o igual a 15,\n",
        "que nos indique la siguiente frase **\"Buen esfuerzo\".**\n",
        "**Si** las millas recorridas son mayor a 15 y menor o igual a 25,\n",
        "que nos indique la siguiente frase **\"Excelente corrida campeón\".**\n"
      ],
      "metadata": {
        "id": "dv7D-92QPzNL"
      }
    },
    {
      "cell_type": "code",
      "source": [
        "# Solicitar los kilómetros\n",
        "kilometros = float(input(\"Ingrese la cantidad de kilómetros recorridos: \"))\n",
        "# Realizar la operación de multiplicar los kilómetros por el factor 0.621371\n",
        "# Guardar el resultado en una variable\n",
        "millas = kilometros * 0.621371\n",
        "# checar las condiciones\n",
        "if millas > 0 and millas <= 15:\n",
        "  print(\"Buen esfuerzo\")\n",
        "if millas > 15 and millas <= 25:\n",
        "  print(\"Excelente corrida campeón\")\n",
        "else:\n",
        "  print(\"Ánimo, tú ya eres un campeón\")"
      ],
      "metadata": {
        "colab": {
          "base_uri": "https://localhost:8080/"
        },
        "id": "G4aXXtEaRU4Y",
        "outputId": "be1f2f7f-241b-4493-fa72-6c7e7ea2058e"
      },
      "execution_count": 4,
      "outputs": [
        {
          "output_type": "stream",
          "name": "stdout",
          "text": [
            "Ingrese la cantidad de kilómetros recorridos: 28\n",
            "Excelente corrida campeón\n"
          ]
        }
      ]
    },
    {
      "cell_type": "markdown",
      "source": [
        "Desarrollar un programa en Python que solicite los kilómetros corridos y calcule las millas correspondientes. Si las millas recorridas son mayor a cero y menor o igual a 15, que nos indique la siguiente frase \"Buen esfuerzo\". Si las millas recorridas son mayor a 15 y menor o igual a 25, que nos indique la siguiente frase \"Excelente corrida campeón\".Si las millas recorridas son mayor a 25 y menor o igual a 50, que nos indique la siguiente frase \"Eres un crack campeón\"."
      ],
      "metadata": {
        "id": "_mKiaF9QSwDH"
      }
    },
    {
      "cell_type": "code",
      "source": [
        "# Solicitar los kilómetros\n",
        "kilometros = float(input(\"Ingrese la cantidad de kilómetros recorridos: \"))\n",
        "# Realizar la operación de multiplicar los kilómetros por el factor 0.621371\n",
        "# Guardar el resultado en una variable\n",
        "millas = kilometros * 0.621371\n",
        "# checar las condiciones\n",
        "if millas > 0 and millas <= 15:\n",
        "  print(\"Buen esfuerzo\")\n",
        "if millas > 15 and millas <= 25:\n",
        "  print(\"Excelente corrida campeón\")\n",
        "if millas > 25 and millas <= 50:\n",
        "  print(\"Eres un crack campeón\")\n",
        "else:\n",
        "  print(\"Ánimo, tú ya eres un campeón\")"
      ],
      "metadata": {
        "colab": {
          "base_uri": "https://localhost:8080/"
        },
        "id": "rw4t1P86TDtc",
        "outputId": "3d3b5bca-84e6-46db-a95d-c0dc4063f20a"
      },
      "execution_count": 7,
      "outputs": [
        {
          "output_type": "stream",
          "name": "stdout",
          "text": [
            "Ingrese la cantidad de kilómetros recorridos: 50\n",
            "Eres un crack campeón\n"
          ]
        }
      ]
    },
    {
      "cell_type": "markdown",
      "source": [
        "## Uso del if, elif, else"
      ],
      "metadata": {
        "id": "GAaloyXqU-jf"
      }
    },
    {
      "cell_type": "code",
      "source": [
        "#ToDo\n",
        "# validar datos de entrada para que no acepte números negativos\n",
        "# -------\n",
        "# Solicitar los kilómetros\n",
        "kilometros = float(input(\"Ingrese la cantidad de kilómetros recorridos: \"))\n",
        "# Realizar la operación de multiplicar los kilómetros por el factor 0.621371\n",
        "# Guardar el resultado en una variable\n",
        "millas = kilometros * 0.621371\n",
        "# checar las condiciones\n",
        "if millas > 0 and millas <= 15:\n",
        "  print(\"Buen esfuerzo\")\n",
        "elif millas > 15 and millas <= 25:\n",
        "  print(\"Excelente corrida campeón\")\n",
        "elif millas > 25 and millas <= 50:\n",
        "  print(\"Eres un crack campeón\")\n",
        "else:\n",
        "  print(\"Ánimo, tú ya eres un campeón\")"
      ],
      "metadata": {
        "id": "yHnpRrQSUKsL"
      },
      "execution_count": null,
      "outputs": []
    }
  ]
}