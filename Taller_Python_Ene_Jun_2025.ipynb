{
  "nbformat": 4,
  "nbformat_minor": 0,
  "metadata": {
    "colab": {
      "provenance": [],
      "authorship_tag": "ABX9TyPxkPH01YCr4Xddr9CVCzla",
      "include_colab_link": true
    },
    "kernelspec": {
      "name": "python3",
      "display_name": "Python 3"
    },
    "language_info": {
      "name": "python"
    }
  },
  "cells": [
    {
      "cell_type": "markdown",
      "metadata": {
        "id": "view-in-github",
        "colab_type": "text"
      },
      "source": [
        "<a href=\"https://colab.research.google.com/github/canay94/Taller_Python/blob/main/Taller_Python_Ene_Jun_2025.ipynb\" target=\"_parent\"><img src=\"https://colab.research.google.com/assets/colab-badge.svg\" alt=\"Open In Colab\"/></a>"
      ]
    },
    {
      "cell_type": "markdown",
      "source": [
        "# Este es un comentario de línea sencilla"
      ],
      "metadata": {
        "id": "LS9Prp8hfR7o"
      }
    },
    {
      "cell_type": "code",
      "source": [
        "# ejemplos del uso del print\n",
        "print(\"Hola Mundo\")\n",
        "print(\"Hola Mundo !!! \")"
      ],
      "metadata": {
        "colab": {
          "base_uri": "https://localhost:8080/"
        },
        "id": "8toqYPoMe_wq",
        "outputId": "574bb893-8875-442b-dc7c-cf494242cf31"
      },
      "execution_count": 8,
      "outputs": [
        {
          "output_type": "stream",
          "name": "stdout",
          "text": [
            "Hola Mundo\n",
            "Hola Mundo !!! \n"
          ]
        }
      ]
    },
    {
      "cell_type": "code",
      "source": [
        "# ejemplos del uso del print con operaciones\n",
        "print(10+15)\n",
        "print(\"Esta es una suma \", 10+15)\n",
        "print(\"Esta es una suma \", 20+25, \"Esta es una resta \", 25-20, \"Esta es una multiplicación \", 6*5, \"Esta es una división \", 48/8)"
      ],
      "metadata": {
        "colab": {
          "base_uri": "https://localhost:8080/"
        },
        "id": "uWt_yxM1ffzr",
        "outputId": "8ca09a67-b2e2-46a7-a304-4e78caddca98"
      },
      "execution_count": 9,
      "outputs": [
        {
          "output_type": "stream",
          "name": "stdout",
          "text": [
            "25\n",
            "Esta es una suma  25\n",
            "Esta es una suma  45 Esta es una resta  5 Esta es una multiplicación  30 Esta es una división  6.0\n"
          ]
        }
      ]
    },
    {
      "cell_type": "code",
      "source": [
        "# Ejemplos del uso de variables\n",
        "x = 5\n",
        "print(x)\n",
        "x = \"hola mundo\"\n",
        "print(x)\n",
        "x = 5.5\n",
        "y = 3\n",
        "print(x+y)\n",
        "print(x-y)\n",
        "print(x*y)\n",
        "print(x/y)\n",
        "print(x*x-y)"
      ],
      "metadata": {
        "colab": {
          "base_uri": "https://localhost:8080/"
        },
        "id": "NnxhPdg2fmmI",
        "outputId": "635e3116-5b50-40ca-8c85-4c59fb046125"
      },
      "execution_count": 10,
      "outputs": [
        {
          "output_type": "stream",
          "name": "stdout",
          "text": [
            "5\n",
            "hola mundo\n",
            "8.5\n",
            "2.5\n",
            "16.5\n",
            "1.8333333333333333\n",
            "27.25\n"
          ]
        }
      ]
    },
    {
      "cell_type": "code",
      "source": [
        "# Ejemplos del uso de variables\n",
        "x = 5\n",
        "print(\"Este es un valor de un entero \", x)\n",
        "x = \"hola mundo\"\n",
        "print(\"Este es un valor de un String \", x)\n",
        "x = 5.5\n",
        "y = 3\n",
        "\n",
        "print(\"La suma del valor de x + y es: \", x+y)\n",
        "print(\"La resta de x - y es: \", x-y)\n",
        "print(\"La multiplicación de x * y es: \", x*y)\n",
        "print(\"La división de x/y es: \", x/y)\n",
        "print(\"Una operación de x*x-y es: \", x*x-y)"
      ],
      "metadata": {
        "colab": {
          "base_uri": "https://localhost:8080/"
        },
        "id": "aBcp7ZF3f2qR",
        "outputId": "5f59619f-8af6-46bd-d965-df7327e0774b"
      },
      "execution_count": 11,
      "outputs": [
        {
          "output_type": "stream",
          "name": "stdout",
          "text": [
            "Este es un valor de un entero  5\n",
            "Este es un valor de un String  hola mundo\n",
            "La suma del valor de x + y es:  8.5\n",
            "La resta de x - y es:  2.5\n",
            "La multiplicación de x * y es:  16.5\n",
            "La división de x/y es:  1.8333333333333333\n",
            "Una operación de x*x-y es:  27.25\n"
          ]
        }
      ]
    },
    {
      "cell_type": "code",
      "source": [
        "# solicitar datos de cadenas 8strings)\n",
        "print(\"¿Cómo te llamas ?\")\n",
        "# se usa la instrucción input para \"atrapar\" lo que escribe el usuario en el teclado\n",
        "# y lo que escribimos en el teclado, se guarda en la variable \"nombre\"\n",
        "nombre = input()\n",
        "print(\"Gusto en conocerte: \", nombre)"
      ],
      "metadata": {
        "colab": {
          "base_uri": "https://localhost:8080/"
        },
        "id": "ckaalmvJgftI",
        "outputId": "4d77a3d9-0b4b-44bb-c558-f5c69affcf8d"
      },
      "execution_count": 12,
      "outputs": [
        {
          "output_type": "stream",
          "name": "stdout",
          "text": [
            "¿Cómo te llamas ?\n",
            "Akejandro\n",
            "Gusto en conocerte:  Akejandro\n"
          ]
        }
      ]
    },
    {
      "cell_type": "code",
      "source": [
        "dato = input(\"¿Cómo te llamas?\")\n",
        "print(\"Gusto en conocerte \", dato)"
      ],
      "metadata": {
        "colab": {
          "base_uri": "https://localhost:8080/"
        },
        "id": "LfHZtVaBgoOh",
        "outputId": "87f03252-4c23-4d43-8552-33ad65550fe3"
      },
      "execution_count": 13,
      "outputs": [
        {
          "output_type": "stream",
          "name": "stdout",
          "text": [
            "¿Cómo te llamas?Alejandro\n",
            "Gusto en conocerte  Alejandro\n"
          ]
        }
      ]
    },
    {
      "cell_type": "code",
      "source": [
        "# solicitar datos de tipo entero\n",
        "x = int(input(\"Dame el valor de x: \"))\n",
        "print(\"El valor de x es:\", x)"
      ],
      "metadata": {
        "colab": {
          "base_uri": "https://localhost:8080/"
        },
        "id": "X4JB-pEngvJj",
        "outputId": "89079445-52ee-42be-bd13-7b7a26633eac"
      },
      "execution_count": 14,
      "outputs": [
        {
          "output_type": "stream",
          "name": "stdout",
          "text": [
            "Dame el valor de x: 5\n",
            "El valor de x es: 5\n"
          ]
        }
      ]
    },
    {
      "cell_type": "code",
      "source": [
        "# solicitar datos de tipo flotante\n",
        "x = float(input(\"Dame el valor de y: \"))\n",
        "print(\"El valor de x es: \", x)"
      ],
      "metadata": {
        "colab": {
          "base_uri": "https://localhost:8080/"
        },
        "id": "B3YBXui3g0AX",
        "outputId": "4beac937-7518-45fd-a029-9776277c8fd1"
      },
      "execution_count": 15,
      "outputs": [
        {
          "output_type": "stream",
          "name": "stdout",
          "text": [
            "Dame el valor de y: 3.2\n",
            "El valor de x es:  3.2\n"
          ]
        }
      ]
    },
    {
      "cell_type": "code",
      "source": [
        "# programa para sumar dos números(enteros)\n",
        "x1 = int(input(\"Ingresa el primer valor: \"))\n",
        "x2 = int(input(\"Ingresa el segundo valor: \"))\n",
        "suma = x1+x2\n",
        "print(\"El resultado de la suma es: \", suma)"
      ],
      "metadata": {
        "colab": {
          "base_uri": "https://localhost:8080/"
        },
        "id": "Y4Co3_Yig7Hc",
        "outputId": "570f3b64-4954-42f2-af39-b0eed5aea2ba"
      },
      "execution_count": 16,
      "outputs": [
        {
          "output_type": "stream",
          "name": "stdout",
          "text": [
            "Ingresa el primer valor: 2\n",
            "Ingresa el segundo valor: 3\n",
            "El resultado de la suma es:  5\n"
          ]
        }
      ]
    },
    {
      "cell_type": "code",
      "source": [
        "# programa para sumar dos números(enteros)\n",
        "x1 = float(input(\"Ingresa el primer valor: \"))\n",
        "x2 = float(input(\"Ingresa el segundo valor: \"))\n",
        "suma = x1 + x2\n",
        "suma = print(\"La suma es: \", suma)"
      ],
      "metadata": {
        "colab": {
          "base_uri": "https://localhost:8080/"
        },
        "id": "anfAzyoDhK-J",
        "outputId": "0dedbd55-a626-413e-9e5f-5d0c7a5a7348"
      },
      "execution_count": 17,
      "outputs": [
        {
          "output_type": "stream",
          "name": "stdout",
          "text": [
            "Ingresa el primer valor: 2.5\n",
            "Ingresa el segundo valor: 3.2\n",
            "La suma es:  5.7\n"
          ]
        }
      ]
    },
    {
      "cell_type": "code",
      "source": [
        "# solicitar los kilometros\n",
        "k = float(input(\"Dame el número de kilómetros: \"))\n",
        "# 1 km = 0.621371 millas\n",
        "factor = 0.621371\n",
        "# calcular las millas\n",
        "millas = k * factor\n",
        "print(\"El valor en millas es:  %.3f \" %(millas) )"
      ],
      "metadata": {
        "colab": {
          "base_uri": "https://localhost:8080/"
        },
        "id": "RTJHvHNqkJTE",
        "outputId": "e240b791-f2fb-4ae6-8de5-2d1437162d03"
      },
      "execution_count": 18,
      "outputs": [
        {
          "output_type": "stream",
          "name": "stdout",
          "text": [
            "Dame el número de kilómetros: 25\n",
            "El valor en millas es:  15.534 \n"
          ]
        }
      ]
    },
    {
      "cell_type": "code",
      "source": [
        "# solicitar los kilometros\n",
        "k = float(input(\"Dame el número de kilómetros: \"))\n",
        "# 1 km = 0.621371 millas\n",
        "factor = 0.621371\n",
        "# calcular las millas\n",
        "millas = k * factor\n",
        "# imprimir una salida como esta: 1 Kilometro(s) equivale a .621 millas\n",
        "print(\"%.1f Kilometro(s) equivale a: %.2f \" %(k, millas) )"
      ],
      "metadata": {
        "colab": {
          "base_uri": "https://localhost:8080/"
        },
        "id": "9J5z09t9kQ4s",
        "outputId": "077ed61f-692d-419b-b2bf-27865221dcdd"
      },
      "execution_count": 19,
      "outputs": [
        {
          "output_type": "stream",
          "name": "stdout",
          "text": [
            "Dame el número de kilómetros: 15\n",
            "15.0 Kilometro(s) equivale a: 9.32 \n"
          ]
        }
      ]
    },
    {
      "cell_type": "code",
      "source": [
        "#  ==, !=, <=, >=, and, or\n",
        "# solicitar los kilometros\n",
        "k = float(input(\"¿Cuántos kilometros corriste ? \"))\n",
        "# 1 km = 0.621371 millas\n",
        "factor = 0.621371\n",
        "# calcular las millas\n",
        "millas = k * factor\n",
        "print(\"%.1f Kilometro(s) equivale a: %.2f millas \" %(k, millas) )\n",
        "# le faltan los dos puntos en el else\n",
        "if millas == 10:\n",
        "    print(\"Meta cumplida\")\n",
        "else:\n",
        "    print(\"Meta NO cunplida\")\n",
        "\n",
        "# imprimir una salida como esta: 1 Kilometro(s) equivale a .621 millas\n",
        "# print(\"%.1f Kilometro(s) equivale a: %.2f millas \" %(k, millas) )"
      ],
      "metadata": {
        "colab": {
          "base_uri": "https://localhost:8080/"
        },
        "id": "ZBDMTjqukdqI",
        "outputId": "5e540343-2f01-4e62-c2ca-330cd365a96f"
      },
      "execution_count": 24,
      "outputs": [
        {
          "output_type": "stream",
          "name": "stdout",
          "text": [
            "¿Cuántos kilometros corriste ? 19\n",
            "19.0 Kilometro(s) equivale a: 11.81 millas \n",
            "Meta NO cunplida\n"
          ]
        }
      ]
    },
    {
      "cell_type": "markdown",
      "source": [
        "**Desarrollar** un programa en Python que *convierta de kilometros a millas.*\n",
        "Debe solicitar los kilómetros recorridos y después mostrar el resultado en millas.\n",
        "Para convertir de kilómétros a millas, debemos multiplicar los kilómetros por 0.621371"
      ],
      "metadata": {
        "id": "pg_84T2xItqc"
      }
    },
    {
      "cell_type": "markdown",
      "source": [
        "pseudo algoritmo\n",
        "\n",
        "1.- Solicitar el número de kilómetros recorridos\n",
        "\n",
        "2.- Realizar la operación de multiplicar los kilómetros por el factor 0.621371\n",
        "\n",
        "3.- Guardar el resultado en una variable\n",
        "\n",
        "4.-Mostrar el resultado obtenido\n"
      ],
      "metadata": {
        "id": "LhJC9kuMI2EI"
      }
    },
    {
      "cell_type": "code",
      "source": [
        "# 1.- Solicitar los kilómetros\n",
        "kilometros = float(input(\"Ingrese la cantidad de kilómetros recorridos: \"))"
      ],
      "metadata": {
        "colab": {
          "base_uri": "https://localhost:8080/"
        },
        "id": "jw9Dkgh-KjX9",
        "outputId": "2ad7f27e-3308-4dbc-c545-8f87c798a0b6"
      },
      "execution_count": null,
      "outputs": [
        {
          "name": "stdout",
          "output_type": "stream",
          "text": [
            "Ingrese la cantidad de kilómetros recorridos: 10\n"
          ]
        }
      ]
    },
    {
      "cell_type": "markdown",
      "source": [],
      "metadata": {
        "id": "nLMyoWq7KYxk"
      }
    },
    {
      "cell_type": "code",
      "source": [
        "# 1.- Solicitar los kilómetros\n",
        "kilometros = float(input(\"Ingrese la cantidad de kilómetros recorridos: \"))\n",
        "# 2.- Realizar la operación de multiplicar los kilómetros por el factor 0.621371\n",
        "# 3.- Guardar el resultado en una variable\n",
        "millas = kilometros * 0.621371\n"
      ],
      "metadata": {
        "colab": {
          "base_uri": "https://localhost:8080/"
        },
        "id": "YEGpXYbHMyPy",
        "outputId": "acbe233d-256c-4c1e-c735-50eba9758c72"
      },
      "execution_count": null,
      "outputs": [
        {
          "name": "stdout",
          "output_type": "stream",
          "text": [
            "Ingrese la cantidad de kilómetros recorridos: 10\n"
          ]
        }
      ]
    },
    {
      "cell_type": "code",
      "source": [
        "# 1.- Solicitar los kilómetros\n",
        "kilometros = float(input(\"Ingrese la cantidad de kilómetros recorridos: \"))\n",
        "# 2.- Realizar la operación de multiplicar los kilómetros por el factor 0.621371\n",
        "# 3.- Guardar el resultado en una variable\n",
        "millas = kilometros * 0.621371\n",
        "# 4.- Mostrar el resultado\n",
        "print(\"La cantidad de millas recorridas es:\", millas)\n"
      ],
      "metadata": {
        "colab": {
          "base_uri": "https://localhost:8080/"
        },
        "id": "KkSkBzedNrIQ",
        "outputId": "7d0a7fcd-d87d-4cce-f5f4-7d904e7cb728"
      },
      "execution_count": null,
      "outputs": [
        {
          "output_type": "stream",
          "name": "stdout",
          "text": [
            "Ingrese la cantidad de kilómetros recorridos: 10\n",
            "La cantidad de millas recorridas es: 6.21371\n"
          ]
        }
      ]
    },
    {
      "cell_type": "code",
      "source": [
        "# 1.- Solicitar los kilómetros\n",
        "kilometros = float(input(\"Ingrese la cantidad de kilómetros recorridos: \"))\n",
        "# 2.- Realizar la operación de multiplicar los kilómetros por el factor 0.621371\n",
        "# 3.- Guardar el resultado en una variable\n",
        "millas = kilometros * 0.621371\n",
        "# 4.- Mostrar el resultado\n",
        "print(\"Las millas que corriste son:  %.2f equivalente a  %.3f kilómetros\" %(millas, kilometros))"
      ],
      "metadata": {
        "colab": {
          "base_uri": "https://localhost:8080/"
        },
        "id": "B-i-tyi-OiEp",
        "outputId": "e4020fc6-cc58-44b6-b95a-4736aaceb2c7"
      },
      "execution_count": null,
      "outputs": [
        {
          "output_type": "stream",
          "name": "stdout",
          "text": [
            "Ingrese la cantidad de kilómetros recorridos: 5\n",
            "Las millas que corriste son:  3.11 equivalente a  5.000 kilómetros\n"
          ]
        }
      ]
    },
    {
      "cell_type": "markdown",
      "source": [
        "24070397 Vanesa Rodríguez Ortiz\n",
        "24070373 Ángel del Ángel Ramos\n",
        "24070183 Mireya Livet Espinoza Zarate\n",
        "24070177 Michelle Emiliano Longoria Salazar\n",
        "24070398 R. Ivan Orta Avila\n",
        "22070441 Jorge Aurelio Secaida Salazar\n",
        "24070176 Aracely Bustamante DonJuan\n",
        "24070187 Dulce Berenice López Flores\n"
      ],
      "metadata": {
        "id": "_2wmBI_cQooS"
      }
    },
    {
      "cell_type": "markdown",
      "source": [
        "# Sesión 07/03/2025\n",
        "## if..else..elif\n"
      ],
      "metadata": {
        "id": "R2lF-RtSKcza"
      }
    },
    {
      "cell_type": "markdown",
      "source": [
        "**Desarrollar** un programa en Python que *solicite* los kilómetros corridos y *calcule* las millas correspondientes.\n",
        "**Si** las millas recorridas con mayor a cero y menor o igual a 15, que nos indique la siguiente frase \"Buen esfuerzo\".\n"
      ],
      "metadata": {
        "id": "kDFgS_IaKuRD"
      }
    },
    {
      "cell_type": "code",
      "source": [
        "# Solicitar los kilómetros\n",
        "kilometros = float(input(\"Ingrese la cantidad de kilómetros recorridos: \"))\n",
        "# Realizar la operación de multiplicar los kilómetros por el factor 0.621371\n",
        "# Guardar el resultado en una variable\n",
        "millas = kilometros * 0.621371\n",
        "# checar las condiciones\n",
        "if millas > 0 and millas <= 15:\n",
        "  print(\"Buen esfuerzo\")"
      ],
      "metadata": {
        "colab": {
          "base_uri": "https://localhost:8080/"
        },
        "id": "Ik7UYYmMN3kH",
        "outputId": "dbdd11f1-cd4a-4a55-e9c9-844df4cbedf7"
      },
      "execution_count": 2,
      "outputs": [
        {
          "name": "stdout",
          "output_type": "stream",
          "text": [
            "Ingrese la cantidad de kilómetros recorridos: 200\n"
          ]
        }
      ]
    },
    {
      "cell_type": "code",
      "source": [
        "# Solicitar los kilómetros\n",
        "kilometros = float(input(\"Ingrese la cantidad de kilómetros recorridos: \"))\n",
        "# Realizar la operación de multiplicar los kilómetros por el factor 0.621371\n",
        "# Guardar el resultado en una variable\n",
        "millas = kilometros * 0.621371\n",
        "# checar las condiciones\n",
        "if millas > 0 and millas <= 15:\n",
        "  print(\"Buen esfuerzo\")\n",
        "else:\n",
        "  print(\"Ánimo, tú ya eres un campeón\")"
      ],
      "metadata": {
        "colab": {
          "base_uri": "https://localhost:8080/"
        },
        "id": "e26SceRZO0b2",
        "outputId": "9bf108b3-f170-4d7d-b198-ca0db732271c"
      },
      "execution_count": 3,
      "outputs": [
        {
          "output_type": "stream",
          "name": "stdout",
          "text": [
            "Ingrese la cantidad de kilómetros recorridos: 200\n",
            "Ánimo, tú ya eres un campeón\n"
          ]
        }
      ]
    },
    {
      "cell_type": "markdown",
      "source": [
        "**Desarrollar** un programa en Python que *solicite* los kilómetros corridos y *calcule* las millas correspondientes.\n",
        "**Si** las millas recorridas son mayor a cero y menor o igual a 15,\n",
        "que nos indique la siguiente frase **\"Buen esfuerzo\".**\n",
        "**Si** las millas recorridas son mayor a 15 y menor o igual a 25,\n",
        "que nos indique la siguiente frase **\"Excelente corrida campeón\".**\n"
      ],
      "metadata": {
        "id": "dv7D-92QPzNL"
      }
    },
    {
      "cell_type": "code",
      "source": [
        "# Solicitar los kilómetros\n",
        "kilometros = float(input(\"Ingrese la cantidad de kilómetros recorridos: \"))\n",
        "# Realizar la operación de multiplicar los kilómetros por el factor 0.621371\n",
        "# Guardar el resultado en una variable\n",
        "millas = kilometros * 0.621371\n",
        "# checar las condiciones\n",
        "if millas > 0 and millas <= 15:\n",
        "  print(\"Buen esfuerzo\")\n",
        "if millas > 15 and millas <= 25:\n",
        "  print(\"Excelente corrida campeón\")\n",
        "else:\n",
        "  print(\"Ánimo, tú ya eres un campeón\")"
      ],
      "metadata": {
        "colab": {
          "base_uri": "https://localhost:8080/"
        },
        "id": "G4aXXtEaRU4Y",
        "outputId": "be1f2f7f-241b-4493-fa72-6c7e7ea2058e"
      },
      "execution_count": 4,
      "outputs": [
        {
          "output_type": "stream",
          "name": "stdout",
          "text": [
            "Ingrese la cantidad de kilómetros recorridos: 28\n",
            "Excelente corrida campeón\n"
          ]
        }
      ]
    },
    {
      "cell_type": "markdown",
      "source": [
        "Desarrollar un programa en Python que solicite los kilómetros corridos y calcule las millas correspondientes. Si las millas recorridas son mayor a cero y menor o igual a 15, que nos indique la siguiente frase \"Buen esfuerzo\". Si las millas recorridas son mayor a 15 y menor o igual a 25, que nos indique la siguiente frase \"Excelente corrida campeón\".Si las millas recorridas son mayor a 25 y menor o igual a 50, que nos indique la siguiente frase \"Eres un crack campeón\"."
      ],
      "metadata": {
        "id": "_mKiaF9QSwDH"
      }
    },
    {
      "cell_type": "code",
      "source": [
        "# Solicitar los kilómetros\n",
        "kilometros = float(input(\"Ingrese la cantidad de kilómetros recorridos: \"))\n",
        "# Realizar la operación de multiplicar los kilómetros por el factor 0.621371\n",
        "# Guardar el resultado en una variable\n",
        "millas = kilometros * 0.621371\n",
        "# checar las condiciones\n",
        "if millas > 0 and millas <= 15:\n",
        "  print(\"Buen esfuerzo\")\n",
        "if millas > 15 and millas <= 25:\n",
        "  print(\"Excelente corrida campeón\")\n",
        "if millas > 25 and millas <= 50:\n",
        "  print(\"Eres un crack campeón\")\n",
        "else:\n",
        "  print(\"Ánimo, tú ya eres un campeón\")"
      ],
      "metadata": {
        "colab": {
          "base_uri": "https://localhost:8080/"
        },
        "id": "rw4t1P86TDtc",
        "outputId": "3d3b5bca-84e6-46db-a95d-c0dc4063f20a"
      },
      "execution_count": 7,
      "outputs": [
        {
          "output_type": "stream",
          "name": "stdout",
          "text": [
            "Ingrese la cantidad de kilómetros recorridos: 50\n",
            "Eres un crack campeón\n"
          ]
        }
      ]
    },
    {
      "cell_type": "markdown",
      "source": [
        "## Uso del if, elif, else"
      ],
      "metadata": {
        "id": "GAaloyXqU-jf"
      }
    },
    {
      "cell_type": "code",
      "source": [
        "#ToDo\n",
        "# validar datos de entrada para que no acepte números negativos\n",
        "# -------\n",
        "# Solicitar los kilómetros\n",
        "kilometros = float(input(\"Ingrese la cantidad de kilómetros recorridos: \"))\n",
        "# Realizar la operación de multiplicar los kilómetros por el factor 0.621371\n",
        "# Guardar el resultado en una variable\n",
        "millas = kilometros * 0.621371\n",
        "# checar las condiciones\n",
        "if millas > 0 and millas <= 15:\n",
        "  print(\"Buen esfuerzo\")\n",
        "elif millas > 15 and millas <= 25:\n",
        "  print(\"Excelente corrida campeón\")\n",
        "elif millas > 25 and millas <= 50:\n",
        "  print(\"Eres un crack campeón\")\n",
        "else:\n",
        "  print(\"Ánimo, tú ya eres un campeón\")"
      ],
      "metadata": {
        "id": "yHnpRrQSUKsL"
      },
      "execution_count": null,
      "outputs": []
    },
    {
      "cell_type": "code",
      "source": [
        "for i in range(6):\n",
        "    print(i)"
      ],
      "metadata": {
        "colab": {
          "base_uri": "https://localhost:8080/"
        },
        "id": "fPupw6l3ojmh",
        "outputId": "9d6a1429-ccff-41cf-cba4-e28030322e89"
      },
      "execution_count": 25,
      "outputs": [
        {
          "output_type": "stream",
          "name": "stdout",
          "text": [
            "0\n",
            "1\n",
            "2\n",
            "3\n",
            "4\n",
            "5\n"
          ]
        }
      ]
    },
    {
      "cell_type": "code",
      "source": [
        "for i in range(0, 6):\n",
        "    print(i)"
      ],
      "metadata": {
        "colab": {
          "base_uri": "https://localhost:8080/"
        },
        "id": "ZtTJ7o3souVm",
        "outputId": "60e3b321-f4a9-411d-b805-eb2019377920"
      },
      "execution_count": 26,
      "outputs": [
        {
          "output_type": "stream",
          "name": "stdout",
          "text": [
            "0\n",
            "1\n",
            "2\n",
            "3\n",
            "4\n",
            "5\n"
          ]
        }
      ]
    },
    {
      "cell_type": "code",
      "source": [
        "for i in range(2, 6):\n",
        "    print(i)"
      ],
      "metadata": {
        "colab": {
          "base_uri": "https://localhost:8080/"
        },
        "id": "oURUis0Jo0FA",
        "outputId": "2daa2656-3150-4a38-d947-a199461b15a9"
      },
      "execution_count": 27,
      "outputs": [
        {
          "output_type": "stream",
          "name": "stdout",
          "text": [
            "2\n",
            "3\n",
            "4\n",
            "5\n"
          ]
        }
      ]
    },
    {
      "cell_type": "code",
      "source": [
        "for x in range(0,20,3):\n",
        "    print(x)"
      ],
      "metadata": {
        "colab": {
          "base_uri": "https://localhost:8080/"
        },
        "id": "3fwEvET2o4N7",
        "outputId": "89eb55cf-fe7f-43c3-9615-7dcbdfc678f8"
      },
      "execution_count": 28,
      "outputs": [
        {
          "output_type": "stream",
          "name": "stdout",
          "text": [
            "0\n",
            "3\n",
            "6\n",
            "9\n",
            "12\n",
            "15\n",
            "18\n"
          ]
        }
      ]
    },
    {
      "cell_type": "code",
      "source": [
        "for x in range(0,24,2):\n",
        "    print(x)"
      ],
      "metadata": {
        "colab": {
          "base_uri": "https://localhost:8080/"
        },
        "id": "kQh5tEgzo8F_",
        "outputId": "90de5169-36c8-4b93-ed27-6a6aad602751"
      },
      "execution_count": 29,
      "outputs": [
        {
          "output_type": "stream",
          "name": "stdout",
          "text": [
            "0\n",
            "2\n",
            "4\n",
            "6\n",
            "8\n",
            "10\n",
            "12\n",
            "14\n",
            "16\n",
            "18\n",
            "20\n",
            "22\n"
          ]
        }
      ]
    },
    {
      "cell_type": "code",
      "source": [
        "for y in range(60,0,-2):\n",
        "    print(y)"
      ],
      "metadata": {
        "colab": {
          "base_uri": "https://localhost:8080/"
        },
        "id": "bfXSqA2bpAI3",
        "outputId": "4ccd9c62-6fad-4ee5-f5c6-0fa105fe7726"
      },
      "execution_count": 30,
      "outputs": [
        {
          "output_type": "stream",
          "name": "stdout",
          "text": [
            "60\n",
            "58\n",
            "56\n",
            "54\n",
            "52\n",
            "50\n",
            "48\n",
            "46\n",
            "44\n",
            "42\n",
            "40\n",
            "38\n",
            "36\n",
            "34\n",
            "32\n",
            "30\n",
            "28\n",
            "26\n",
            "24\n",
            "22\n",
            "20\n",
            "18\n",
            "16\n",
            "14\n",
            "12\n",
            "10\n",
            "8\n",
            "6\n",
            "4\n",
            "2\n"
          ]
        }
      ]
    },
    {
      "cell_type": "code",
      "source": [
        "for _ in range(1,5):\n",
        "    print(\"Holas !!!\")"
      ],
      "metadata": {
        "colab": {
          "base_uri": "https://localhost:8080/"
        },
        "id": "A_eF8GTBpCT3",
        "outputId": "f6635813-de14-4eac-822d-99b3a298eb47"
      },
      "execution_count": 31,
      "outputs": [
        {
          "output_type": "stream",
          "name": "stdout",
          "text": [
            "Holas !!!\n",
            "Holas !!!\n",
            "Holas !!!\n",
            "Holas !!!\n"
          ]
        }
      ]
    },
    {
      "cell_type": "code",
      "source": [
        "for x in \"Taller de Python\":\n",
        "    print(x)"
      ],
      "metadata": {
        "colab": {
          "base_uri": "https://localhost:8080/"
        },
        "id": "IF7FaXUCpU9M",
        "outputId": "ce3558ca-2864-4af5-8fe8-0946dddb45a4"
      },
      "execution_count": 32,
      "outputs": [
        {
          "output_type": "stream",
          "name": "stdout",
          "text": [
            "T\n",
            "a\n",
            "l\n",
            "l\n",
            "e\n",
            "r\n",
            " \n",
            "d\n",
            "e\n",
            " \n",
            "P\n",
            "y\n",
            "t\n",
            "h\n",
            "o\n",
            "n\n"
          ]
        }
      ]
    },
    {
      "cell_type": "code",
      "source": [
        "for x in \"Taller de Python\":\n",
        "    if x == \"T\":\n",
        "        print(x)\n",
        "    elif x == \"P\":\n",
        "        print(x)"
      ],
      "metadata": {
        "colab": {
          "base_uri": "https://localhost:8080/"
        },
        "id": "aQatxitcpcFT",
        "outputId": "9de93b71-c433-48e2-bdde-873e7a07f1b8"
      },
      "execution_count": 33,
      "outputs": [
        {
          "output_type": "stream",
          "name": "stdout",
          "text": [
            "T\n",
            "P\n"
          ]
        }
      ]
    },
    {
      "cell_type": "code",
      "source": [
        "for i in range(0,3):\n",
        "    for j in range(0,2):\n",
        "        print(i, j)"
      ],
      "metadata": {
        "colab": {
          "base_uri": "https://localhost:8080/"
        },
        "id": "sbW2MMWWpnW0",
        "outputId": "dbe4e83d-7525-4561-b537-cd157ec13c78"
      },
      "execution_count": 34,
      "outputs": [
        {
          "output_type": "stream",
          "name": "stdout",
          "text": [
            "0 0\n",
            "0 1\n",
            "1 0\n",
            "1 1\n",
            "2 0\n",
            "2 1\n"
          ]
        }
      ]
    },
    {
      "cell_type": "code",
      "source": [
        "for i in range(0,2):\n",
        "    for j in range(0,3):\n",
        "        for k in range(0,4):\n",
        "            print(i, j, k)"
      ],
      "metadata": {
        "colab": {
          "base_uri": "https://localhost:8080/"
        },
        "id": "3LoZAcfHptSy",
        "outputId": "15de7e39-6e36-4445-d983-185ba18c3f9f"
      },
      "execution_count": 36,
      "outputs": [
        {
          "output_type": "stream",
          "name": "stdout",
          "text": [
            "0 0 0\n",
            "0 0 1\n",
            "0 0 2\n",
            "0 0 3\n",
            "0 1 0\n",
            "0 1 1\n",
            "0 1 2\n",
            "0 1 3\n",
            "0 2 0\n",
            "0 2 1\n",
            "0 2 2\n",
            "0 2 3\n",
            "1 0 0\n",
            "1 0 1\n",
            "1 0 2\n",
            "1 0 3\n",
            "1 1 0\n",
            "1 1 1\n",
            "1 1 2\n",
            "1 1 3\n",
            "1 2 0\n",
            "1 2 1\n",
            "1 2 2\n",
            "1 2 3\n"
          ]
        }
      ]
    },
    {
      "cell_type": "code",
      "source": [
        "frutas = [\"manzana\", \"mango\", \"melón\"]\n",
        "for x in frutas:\n",
        "    print(x)"
      ],
      "metadata": {
        "colab": {
          "base_uri": "https://localhost:8080/"
        },
        "id": "RuthWN5gp0HX",
        "outputId": "81d43d64-5071-4fdb-fd7b-3ab73b599108"
      },
      "execution_count": 37,
      "outputs": [
        {
          "output_type": "stream",
          "name": "stdout",
          "text": [
            "manzana\n",
            "mango\n",
            "melón\n"
          ]
        }
      ]
    },
    {
      "cell_type": "code",
      "source": [
        "x = 5\n",
        "while x > 0:\n",
        "    x -= 1\n",
        "    print(x)"
      ],
      "metadata": {
        "colab": {
          "base_uri": "https://localhost:8080/"
        },
        "id": "mgChWnR5qEgT",
        "outputId": "f35f356a-9f96-4640-f189-e525f5d2fc96"
      },
      "execution_count": 38,
      "outputs": [
        {
          "output_type": "stream",
          "name": "stdout",
          "text": [
            "4\n",
            "3\n",
            "2\n",
            "1\n",
            "0\n"
          ]
        }
      ]
    },
    {
      "cell_type": "code",
      "source": [
        "x = 10\n",
        "while x > 0:\n",
        "    print(x)\n",
        "    print(\"Hola Mundo!!! \")\n",
        "    x -= 1"
      ],
      "metadata": {
        "colab": {
          "base_uri": "https://localhost:8080/"
        },
        "id": "RWzbftEbqGJI",
        "outputId": "12283502-9ef7-4cf6-96ba-cd7d9723db10"
      },
      "execution_count": 39,
      "outputs": [
        {
          "output_type": "stream",
          "name": "stdout",
          "text": [
            "10\n",
            "Hola Mundo!!! \n",
            "9\n",
            "Hola Mundo!!! \n",
            "8\n",
            "Hola Mundo!!! \n",
            "7\n",
            "Hola Mundo!!! \n",
            "6\n",
            "Hola Mundo!!! \n",
            "5\n",
            "Hola Mundo!!! \n",
            "4\n",
            "Hola Mundo!!! \n",
            "3\n",
            "Hola Mundo!!! \n",
            "2\n",
            "Hola Mundo!!! \n",
            "1\n",
            "Hola Mundo!!! \n"
          ]
        }
      ]
    },
    {
      "cell_type": "code",
      "source": [
        "# ámbito del while\n",
        "respuesta = \"s\"\n",
        "while respuesta == \"s\":\n",
        "    print(\"Hola Mundo!!! \")\n",
        "    respuesta = \"n\"\n",
        "\n",
        "print(\"Ya salió del while\")"
      ],
      "metadata": {
        "colab": {
          "base_uri": "https://localhost:8080/"
        },
        "id": "D_DXF7RUq03Q",
        "outputId": "168291be-9fc3-46d6-8a93-10a95cb14a0c"
      },
      "execution_count": 40,
      "outputs": [
        {
          "output_type": "stream",
          "name": "stdout",
          "text": [
            "Hola Mundo!!! \n",
            "Ya salió del while\n"
          ]
        }
      ]
    },
    {
      "cell_type": "code",
      "source": [
        "# ámbito del while\n",
        "respuesta = \"s\"\n",
        "while respuesta == \"s\":\n",
        "    print(\"Menu del programa\")\n",
        "    print(\"1.- Opción 1 \")\n",
        "    print(\"5.- Salir \")\n",
        "    print(\"-----------\")\n",
        "    opcion = int(input(\"Dame tú opción \"))\n",
        "\n",
        "    if opcion == 1:\n",
        "        print(\"Esta es la opción 1\")\n",
        "\n",
        "    if opcion == 5:\n",
        "        print(\"Gracias !!! \")\n",
        "        respuesta = \"n\"\n",
        "\n",
        "print(\"Ya salió del while\")"
      ],
      "metadata": {
        "colab": {
          "base_uri": "https://localhost:8080/"
        },
        "id": "GhXbhOiYq8fY",
        "outputId": "b544fe93-2b28-4681-bef1-dda47b6b24fb"
      },
      "execution_count": 41,
      "outputs": [
        {
          "output_type": "stream",
          "name": "stdout",
          "text": [
            "Menu del programa\n",
            "1.- Opción 1 \n",
            "5.- Salir \n",
            "-----------\n",
            "Dame tú opción 1\n",
            "Esta es la opción 1\n",
            "Menu del programa\n",
            "1.- Opción 1 \n",
            "5.- Salir \n",
            "-----------\n",
            "Dame tú opción 5\n",
            "Gracias !!! \n",
            "Ya salió del while\n"
          ]
        }
      ]
    },
    {
      "cell_type": "code",
      "source": [
        "# calculadora (+,-,*)\n",
        "# calcular el índice de masa coprporal\n",
        "# mejorar el programa con el uso del elif y else\n",
        "# ámbito del while\n",
        "respuesta = \"s\"\n",
        "while respuesta == \"s\":\n",
        "    print(\"-----------------\")\n",
        "    print(\"Menu del programa\")\n",
        "    print(\"1.- Suma\")\n",
        "    print(\"2.- Resta \")\n",
        "    print(\"3.- Multiplicación \")\n",
        "    print(\"4.- Índice de Masa Corporal\")\n",
        "    print(\"5.- Salir \")\n",
        "    print(\"-----------\")\n",
        "    opcion = int(input(\"Dame tú opción \"))\n",
        "\n",
        "    if opcion == 1:\n",
        "        print(\"Opción de suma\")\n",
        "        a = float(input(\"Dame el valor de a\"))\n",
        "        b = float(input(\"Dame el valor de b\"))\n",
        "        c = a + b\n",
        "        print(\"El resultado es:\", c)\n",
        "\n",
        "    elif opcion == 2:\n",
        "        print(\"Opción de resta\")\n",
        "        a = float(input(\"Dame el valor de a\"))\n",
        "        b = float(input(\"Dame el valor de b\"))\n",
        "        c = a - b\n",
        "        print(\"El resultado es:\", c)\n",
        "\n",
        "    elif opcion == 3:\n",
        "        print(\"Opción de multiplicación\")\n",
        "        a = float(input(\"Dame el valor de a\"))\n",
        "        b = float(input(\"Dame el valor de b\"))\n",
        "        c = a * b\n",
        "        print(\"El resultado es:\", c)\n",
        "\n",
        "    elif opcion == 4:\n",
        "        print(\"Índice de Masa Corporal\")\n",
        "        w = float(input(\"Dame tú peso en kilogramos\"))\n",
        "        h = float(input(\"Dame tú estatura en centrímetros\"))\n",
        "        bmi = w / ((h/100) **2)\n",
        "        print(\"Tú índice de masa corporal es:\", bmi)\n",
        "\n",
        "        if bmi < 18.5:\n",
        "            print(\"Peso bajo, necesitas comer tacos\")\n",
        "        elif ( (bmi >= 18.5) and (bmi <= 24.9)):\n",
        "            print(\"Sigue así campeón(a)\")\n",
        "\n",
        "    elif opcion == 5:\n",
        "        print(\"Gracias !!! \")\n",
        "        respuesta = \"n\"\n",
        "\n",
        "    else:\n",
        "        print(\"Las opciones válidas son del 1 al 5\")\n",
        "        print(\"Vuelve a dar tú opción\")"
      ],
      "metadata": {
        "colab": {
          "base_uri": "https://localhost:8080/"
        },
        "id": "JvgBjs5JrvF7",
        "outputId": "b15adc0c-cace-46d9-a379-a34dce58a56b"
      },
      "execution_count": 42,
      "outputs": [
        {
          "output_type": "stream",
          "name": "stdout",
          "text": [
            "-----------------\n",
            "Menu del programa\n",
            "1.- Suma\n",
            "2.- Resta \n",
            "3.- Multiplicación \n",
            "4.- Índice de Masa Corporal\n",
            "5.- Salir \n",
            "-----------\n",
            "Dame tú opción 4\n",
            "Índice de Masa Corporal\n",
            "Dame tú peso en kilogramos90\n",
            "Dame tú estatura en centrímetros165\n",
            "Tú índice de masa corporal es: 33.057851239669425\n",
            "-----------------\n",
            "Menu del programa\n",
            "1.- Suma\n",
            "2.- Resta \n",
            "3.- Multiplicación \n",
            "4.- Índice de Masa Corporal\n",
            "5.- Salir \n",
            "-----------\n",
            "Dame tú opción 5\n",
            "Gracias !!! \n"
          ]
        }
      ]
    },
    {
      "cell_type": "code",
      "source": [
        "def saludar():\n",
        "    print(\"Hola mundo con manejo de funciones\")"
      ],
      "metadata": {
        "id": "Ayjswduzr-mX"
      },
      "execution_count": 43,
      "outputs": []
    },
    {
      "cell_type": "code",
      "source": [
        "def saludar1(nombre):\n",
        "    print(\"Hola: \", nombre)"
      ],
      "metadata": {
        "id": "GG-9s0awsGUr"
      },
      "execution_count": 44,
      "outputs": []
    },
    {
      "cell_type": "code",
      "source": [
        "def sumar(x, y):\n",
        "    print(\"El resultado es: \", x + y)"
      ],
      "metadata": {
        "id": "nEg1PDvjsKuY"
      },
      "execution_count": 45,
      "outputs": []
    },
    {
      "cell_type": "code",
      "source": [
        "# https://www.tratamientoictus.com/body-mass-index-indice-de-masa-corporal-bmi/\n",
        "# calculadora (+,-,*)\n",
        "# calcular el índice de masa coprporal con el uso de funciones\n",
        "# mejorar el programa con el uso del elif y else\n",
        "# ámbito del while\n",
        "\n",
        "def calcular_bmi(bmi):\n",
        "    if bmi < 18.5:\n",
        "        print(\"Peso bajo, necesitas comer tacos\")\n",
        "    elif ( (bmi >= 18.5) and (bmi <= 24.9)):\n",
        "        print(\"Sigue así campeón(a)\")\n",
        "    elif ( (bmi >= 30) and (bmi <= 34.5)):\n",
        "        print(\"Caminar todos los días unos 20,000 pasos\")\n",
        "    else:\n",
        "        print(\"Caminar todos los días unos 50,000 pasos al menos\")\n",
        "\n",
        "\n",
        "\n",
        "respuesta = \"s\"\n",
        "while respuesta == \"s\":\n",
        "    print(\"-----------------\")\n",
        "    print(\"Menu del programa\")\n",
        "    print(\"1.- Suma\")\n",
        "    print(\"2.- Resta \")\n",
        "    print(\"3.- Multiplicación \")\n",
        "    print(\"4.- Índice de Masa Corporal\")\n",
        "    print(\"5.- Salir \")\n",
        "    print(\"-----------\")\n",
        "    opcion = int(input(\"Dame tú opción \"))\n",
        "\n",
        "    if opcion == 1:\n",
        "        print(\"Opción de suma\")\n",
        "        a = float(input(\"Dame el valor de a\"))\n",
        "        b = float(input(\"Dame el valor de b\"))\n",
        "        c = a + b\n",
        "        print(\"El resultado es:\", c)\n",
        "\n",
        "    elif opcion == 2:\n",
        "        print(\"Opción de resta\")\n",
        "        a = float(input(\"Dame el valor de a\"))\n",
        "        b = float(input(\"Dame el valor de b\"))\n",
        "        c = a - b\n",
        "        print(\"El resultado es:\", c)\n",
        "\n",
        "    elif opcion == 3:\n",
        "        print(\"Opción de multiplicación\")\n",
        "        a = float(input(\"Dame el valor de a\"))\n",
        "        b = float(input(\"Dame el valor de b\"))\n",
        "        c = a * b\n",
        "        print(\"El resultado es:\", c)\n",
        "\n",
        "    elif opcion == 4:\n",
        "        print(\"Índice de Masa Corporal\")\n",
        "        w = float(input(\"Dame tú peso en kilogramos\"))\n",
        "        h = float(input(\"Dame tú estatura en centrímetros\"))\n",
        "        bmi = w / ((h/100) **2)\n",
        "        print(\"Tú índice de masa corporal es:\", bmi)\n",
        "        # llamada a la función\n",
        "        calcular_bmi(bmi)\n",
        "\n",
        "    elif opcion == 5:\n",
        "        print(\"Gracias !!! \")\n",
        "        respuesta = \"n\"\n",
        "    else:\n",
        "        print(\"Las opciones válidas son del 1 al 5\")\n",
        "        print(\"Vuelve a dar tú opción\")"
      ],
      "metadata": {
        "colab": {
          "base_uri": "https://localhost:8080/"
        },
        "id": "0PRxmgM1srQh",
        "outputId": "5934635f-912e-4a37-b8fe-9d31da1a93e7"
      },
      "execution_count": 48,
      "outputs": [
        {
          "output_type": "stream",
          "name": "stdout",
          "text": [
            "-----------------\n",
            "Menu del programa\n",
            "1.- Suma\n",
            "2.- Resta \n",
            "3.- Multiplicación \n",
            "4.- Índice de Masa Corporal\n",
            "5.- Salir \n",
            "-----------\n",
            "Dame tú opción 4\n",
            "Índice de Masa Corporal\n",
            "Dame tú peso en kilogramos90\n",
            "Dame tú estatura en centrímetros168\n",
            "Tú índice de masa corporal es: 31.88775510204082\n",
            "Caminar todos los días unos 20,000 pasos\n",
            "-----------------\n",
            "Menu del programa\n",
            "1.- Suma\n",
            "2.- Resta \n",
            "3.- Multiplicación \n",
            "4.- Índice de Masa Corporal\n",
            "5.- Salir \n",
            "-----------\n",
            "Dame tú opción 5\n",
            "Gracias !!! \n"
          ]
        }
      ]
    },
    {
      "cell_type": "code",
      "source": [
        "# Convertir de grados centifrados a fahrenheit\n",
        "\n",
        "\n",
        "def fahrenheit_celsius():\n",
        "    '''convierte temperatura en grados fahrenheit a grados celsius'''\n",
        "\n",
        "    fahrenheit = int(input('Ingrese la temperatura en grados Fahrenheit: '))\n",
        "    celsius = (fahrenheit -32 ) * 5.0/9.0\n",
        "    return '{} grados Fahrenheit son {} grados Celsius'.format(fahrenheit, celsius)\n",
        "\n",
        "def celsius_fahrenheit():\n",
        "    '''convierte temperatura en grados celsius a fahrenheit'''\n",
        "\n",
        "    celsius = int(input('Ingrese la temperatura en grados Celsius: '))\n",
        "    fahrenheit = 9.0/5.0 * celsius +32\n",
        "    return '{} grados Celsius son {} grados Fahrenheit'.format(celsius, fahrenheit)\n",
        "\n",
        "while True:\n",
        "    print('1.- Fahrenheit a Celsius')\n",
        "    print('2.- Celsius a Fahrenheit')\n",
        "\n",
        "    try:\n",
        "        opcion = int(input('Seleccione una opción: '))\n",
        "        if opcion == 1:\n",
        "            print(fahrenheit_celsius())\n",
        "        elif opcion == 2:\n",
        "            print(celsius_fahrenheit())\n",
        "        elif opcion == 3:\n",
        "            print('Hasta luego')\n",
        "        else:\n",
        "            raise ValueError\n",
        "    except ValueError:\n",
        "        print('Ingrese solo números.(1/2)')"
      ],
      "metadata": {
        "colab": {
          "base_uri": "https://localhost:8080/",
          "height": 603
        },
        "id": "VvBvSBM4tv4Q",
        "outputId": "957476a4-3b16-4773-bcc0-1c10892a4526"
      },
      "execution_count": 49,
      "outputs": [
        {
          "output_type": "stream",
          "name": "stdout",
          "text": [
            "1.- Fahrenheit a Celsius\n",
            "2.- Celsius a Fahrenheit\n",
            "Seleccione una opción: 1\n",
            "Ingrese la temperatura en grados Fahrenheit: 35\n",
            "35 grados Fahrenheit son 1.6666666666666667 grados Celsius\n",
            "1.- Fahrenheit a Celsius\n",
            "2.- Celsius a Fahrenheit\n",
            "Seleccione una opción: 3\n",
            "Hasta luego\n",
            "1.- Fahrenheit a Celsius\n",
            "2.- Celsius a Fahrenheit\n"
          ]
        },
        {
          "output_type": "error",
          "ename": "KeyboardInterrupt",
          "evalue": "Interrupted by user",
          "traceback": [
            "\u001b[0;31m---------------------------------------------------------------------------\u001b[0m",
            "\u001b[0;31mKeyboardInterrupt\u001b[0m                         Traceback (most recent call last)",
            "\u001b[0;32m<ipython-input-49-cb7dd2076e1f>\u001b[0m in \u001b[0;36m<cell line: 0>\u001b[0;34m()\u001b[0m\n\u001b[1;32m     21\u001b[0m \u001b[0;34m\u001b[0m\u001b[0m\n\u001b[1;32m     22\u001b[0m     \u001b[0;32mtry\u001b[0m\u001b[0;34m:\u001b[0m\u001b[0;34m\u001b[0m\u001b[0;34m\u001b[0m\u001b[0m\n\u001b[0;32m---> 23\u001b[0;31m         \u001b[0mopcion\u001b[0m \u001b[0;34m=\u001b[0m \u001b[0mint\u001b[0m\u001b[0;34m(\u001b[0m\u001b[0minput\u001b[0m\u001b[0;34m(\u001b[0m\u001b[0;34m'Seleccione una opción: '\u001b[0m\u001b[0;34m)\u001b[0m\u001b[0;34m)\u001b[0m\u001b[0;34m\u001b[0m\u001b[0;34m\u001b[0m\u001b[0m\n\u001b[0m\u001b[1;32m     24\u001b[0m         \u001b[0;32mif\u001b[0m \u001b[0mopcion\u001b[0m \u001b[0;34m==\u001b[0m \u001b[0;36m1\u001b[0m\u001b[0;34m:\u001b[0m\u001b[0;34m\u001b[0m\u001b[0;34m\u001b[0m\u001b[0m\n\u001b[1;32m     25\u001b[0m             \u001b[0mprint\u001b[0m\u001b[0;34m(\u001b[0m\u001b[0mfahrenheit_celsius\u001b[0m\u001b[0;34m(\u001b[0m\u001b[0;34m)\u001b[0m\u001b[0;34m)\u001b[0m\u001b[0;34m\u001b[0m\u001b[0;34m\u001b[0m\u001b[0m\n",
            "\u001b[0;32m/usr/local/lib/python3.11/dist-packages/ipykernel/kernelbase.py\u001b[0m in \u001b[0;36mraw_input\u001b[0;34m(self, prompt)\u001b[0m\n\u001b[1;32m   1175\u001b[0m                 \u001b[0;34m\"raw_input was called, but this frontend does not support input requests.\"\u001b[0m\u001b[0;34m\u001b[0m\u001b[0;34m\u001b[0m\u001b[0m\n\u001b[1;32m   1176\u001b[0m             )\n\u001b[0;32m-> 1177\u001b[0;31m         return self._input_request(\n\u001b[0m\u001b[1;32m   1178\u001b[0m             \u001b[0mstr\u001b[0m\u001b[0;34m(\u001b[0m\u001b[0mprompt\u001b[0m\u001b[0;34m)\u001b[0m\u001b[0;34m,\u001b[0m\u001b[0;34m\u001b[0m\u001b[0;34m\u001b[0m\u001b[0m\n\u001b[1;32m   1179\u001b[0m             \u001b[0mself\u001b[0m\u001b[0;34m.\u001b[0m\u001b[0m_parent_ident\u001b[0m\u001b[0;34m[\u001b[0m\u001b[0;34m\"shell\"\u001b[0m\u001b[0;34m]\u001b[0m\u001b[0;34m,\u001b[0m\u001b[0;34m\u001b[0m\u001b[0;34m\u001b[0m\u001b[0m\n",
            "\u001b[0;32m/usr/local/lib/python3.11/dist-packages/ipykernel/kernelbase.py\u001b[0m in \u001b[0;36m_input_request\u001b[0;34m(self, prompt, ident, parent, password)\u001b[0m\n\u001b[1;32m   1217\u001b[0m             \u001b[0;32mexcept\u001b[0m \u001b[0mKeyboardInterrupt\u001b[0m\u001b[0;34m:\u001b[0m\u001b[0;34m\u001b[0m\u001b[0;34m\u001b[0m\u001b[0m\n\u001b[1;32m   1218\u001b[0m                 \u001b[0;31m# re-raise KeyboardInterrupt, to truncate traceback\u001b[0m\u001b[0;34m\u001b[0m\u001b[0;34m\u001b[0m\u001b[0m\n\u001b[0;32m-> 1219\u001b[0;31m                 \u001b[0;32mraise\u001b[0m \u001b[0mKeyboardInterrupt\u001b[0m\u001b[0;34m(\u001b[0m\u001b[0;34m\"Interrupted by user\"\u001b[0m\u001b[0;34m)\u001b[0m \u001b[0;32mfrom\u001b[0m \u001b[0;32mNone\u001b[0m\u001b[0;34m\u001b[0m\u001b[0;34m\u001b[0m\u001b[0m\n\u001b[0m\u001b[1;32m   1220\u001b[0m             \u001b[0;32mexcept\u001b[0m \u001b[0mException\u001b[0m\u001b[0;34m:\u001b[0m\u001b[0;34m\u001b[0m\u001b[0;34m\u001b[0m\u001b[0m\n\u001b[1;32m   1221\u001b[0m                 \u001b[0mself\u001b[0m\u001b[0;34m.\u001b[0m\u001b[0mlog\u001b[0m\u001b[0;34m.\u001b[0m\u001b[0mwarning\u001b[0m\u001b[0;34m(\u001b[0m\u001b[0;34m\"Invalid Message:\"\u001b[0m\u001b[0;34m,\u001b[0m \u001b[0mexc_info\u001b[0m\u001b[0;34m=\u001b[0m\u001b[0;32mTrue\u001b[0m\u001b[0;34m)\u001b[0m\u001b[0;34m\u001b[0m\u001b[0;34m\u001b[0m\u001b[0m\n",
            "\u001b[0;31mKeyboardInterrupt\u001b[0m: Interrupted by user"
          ]
        }
      ]
    },
    {
      "cell_type": "code",
      "source": [],
      "metadata": {
        "id": "0heRQN13uBiG"
      },
      "execution_count": null,
      "outputs": []
    },
    {
      "cell_type": "code",
      "source": [
        "# Convertir de grados centifrados a fahrenheit\n",
        "\n",
        "\n",
        "def fahrenheit_celsius():\n",
        "    '''convierte temperatura en grados fahrenheit a grados celsius'''\n",
        "\n",
        "    fahrenheit = int(input('Ingrese la temperatura en grados Fahrenheit: '))\n",
        "    celsius = (fahrenheit -32 ) * 5.0/9.0\n",
        "    return '{} grados Fahrenheit son {} grados Celsius'.format(fahrenheit, celsius)\n",
        "\n",
        "def celsius_fahrenheit():\n",
        "    '''convierte temperatura en grados celsius a fahrenheit'''\n",
        "\n",
        "    celsius = int(input('Ingrese la temperatura en grados Celsius: '))\n",
        "    fahrenheit = 9.0/5.0 * celsius +32\n",
        "    return '{} grados Celsius son {} grados Fahrenheit'.format(celsius, fahrenheit)\n",
        "\n",
        "while True:\n",
        "    print('1.- Fahrenheit a Celsius')\n",
        "    print('2.- Celsius a Fahrenheit')\n",
        "\n",
        "    try:\n",
        "        opcion = int(input('Seleccione una opción: '))\n",
        "        if opcion == 1:\n",
        "            print(fahrenheit_celsius())\n",
        "        elif opcion == 2:\n",
        "            print(celsius_fahrenheit())\n",
        "        elif opcion == 3:\n",
        "            print('Hasta luego')\n",
        "        else:\n",
        "            raise ValueError\n",
        "    except ValueError:\n",
        "        print('Ingrese solo números.(1/2)')"
      ],
      "metadata": {
        "colab": {
          "base_uri": "https://localhost:8080/"
        },
        "outputId": "957476a4-3b16-4773-bcc0-1c10892a4526",
        "id": "3MvrLLkquB7B"
      },
      "execution_count": null,
      "outputs": [
        {
          "output_type": "stream",
          "name": "stdout",
          "text": [
            "1.- Fahrenheit a Celsius\n",
            "2.- Celsius a Fahrenheit\n",
            "Seleccione una opción: 1\n",
            "Ingrese la temperatura en grados Fahrenheit: 35\n",
            "35 grados Fahrenheit son 1.6666666666666667 grados Celsius\n",
            "1.- Fahrenheit a Celsius\n",
            "2.- Celsius a Fahrenheit\n",
            "Seleccione una opción: 3\n",
            "Hasta luego\n",
            "1.- Fahrenheit a Celsius\n",
            "2.- Celsius a Fahrenheit\n"
          ]
        }
      ]
    },
    {
      "cell_type": "code",
      "source": [
        "# https://www.freecodecamp.org/news/python-f-strings-tutorial-how-to-use-f-strings-for-string-formatting/\n",
        "\n",
        "import random\n",
        "\n",
        "def adivina(x):\n",
        "    random_number = random.randint(1, x)\n",
        "    guess = 0\n",
        "    while guess != random_number:\n",
        "        guess = int(input(f'Dame un número entre 1 y  {x}: '))\n",
        "        if guess < random_number:\n",
        "            print('Muy bajo')\n",
        "        elif guess > random_number:\n",
        "            print('Muy alto')\n",
        "\n",
        "    #print(f'Excelente. Adivinaste el número {random_number} correctamente !!')\n",
        "    print('Excelente. Adivinaste el número', random_number, 'correctamente !!')\n",
        "\n",
        "\n",
        "\n",
        "\n",
        "adivina(10)"
      ],
      "metadata": {
        "colab": {
          "base_uri": "https://localhost:8080/"
        },
        "id": "EjubTBWpuGqn",
        "outputId": "48c54c3e-a288-4bed-a600-a0662a40cc14"
      },
      "execution_count": 50,
      "outputs": [
        {
          "output_type": "stream",
          "name": "stdout",
          "text": [
            "Dame un número entre 1 y  10: 12\n",
            "Muy alto\n",
            "Dame un número entre 1 y  10: 10\n",
            "Muy alto\n",
            "Dame un número entre 1 y  10: 9\n",
            "Excelente. Adivinaste el número 9 correctamente !!\n"
          ]
        }
      ]
    },
    {
      "cell_type": "markdown",
      "source": [
        "https://www.codigopiton.com/como-hacer-el-juego-del-ahorcado-en-python/\n"
      ],
      "metadata": {
        "id": "u6ArvV08u-vu"
      }
    }
  ]
}