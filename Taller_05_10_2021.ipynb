{
 "cells": [
  {
   "cell_type": "markdown",
   "id": "a35620b4-0a99-48cf-8afe-77209d08c230",
   "metadata": {},
   "source": [
    "### Instituto Tecnológico Superior de San Luis Potosí, Capital. ###\n",
    "![Logo ITSSLPC](logo2tec.jpg \"Logo ITSSLPC\")\n",
    "\n",
    "# Taller de Git, GitHub, MarkDown y Python\n",
    "## ITSSLPC-ISC\n",
    "## Actividades complementarias\n",
    "![Logo Ninjas](Ninjas_Tec_Superior.jpg \"ITSSLPC Ninjas\")\n",
    "\n",
    "\n",
    "[Apuntes](https://robo-tics-slp.net/ecuaciones) "
   ]
  },
  {
   "cell_type": "code",
   "execution_count": 18,
   "id": "49776770-6c53-4e3a-9a74-1d38aad9cede",
   "metadata": {},
   "outputs": [],
   "source": [
    "# Este es un comentario de línea sencilla"
   ]
  },
  {
   "cell_type": "code",
   "execution_count": 19,
   "id": "1646690f-6aff-485f-b44a-5f22228b7aa5",
   "metadata": {},
   "outputs": [
    {
     "name": "stdout",
     "output_type": "stream",
     "text": [
      "Hola Mundo\n",
      "Hola Mundo !!! \n"
     ]
    }
   ],
   "source": [
    "# ejemplos del uso del print\n",
    "print(\"Hola Mundo\")\n",
    "print(\"Hola Mundo !!! \")"
   ]
  },
  {
   "cell_type": "code",
   "execution_count": 20,
   "id": "f3648950-9c7d-42c6-8c72-24540217ccc0",
   "metadata": {},
   "outputs": [
    {
     "name": "stdout",
     "output_type": "stream",
     "text": [
      "25\n",
      "Esta es una suma  25\n",
      "Esta es una suma  45 Esta es una resta  5 Esta es una multiplicación  30 Esta es una división  6.0\n"
     ]
    }
   ],
   "source": [
    "# ejemplos del uso del print con operaciones\n",
    "print(10+15)\n",
    "print(\"Esta es una suma \", 10+15)\n",
    "print(\"Esta es una suma \", 20+25, \"Esta es una resta \", 25-20, \"Esta es una multiplicación \", 6*5, \"Esta es una división \", 48/8)"
   ]
  },
  {
   "cell_type": "code",
   "execution_count": 21,
   "id": "e6417fa8-b1ab-4a1d-bfc5-c0cfa7f6164c",
   "metadata": {},
   "outputs": [
    {
     "name": "stdout",
     "output_type": "stream",
     "text": [
      "5\n",
      "hola mundo\n",
      "8.5\n",
      "2.5\n",
      "16.5\n",
      "1.8333333333333333\n",
      "27.25\n"
     ]
    }
   ],
   "source": [
    "# Ejemplos del uso de variables\n",
    "x = 5\n",
    "print(x)\n",
    "x = \"hola mundo\"\n",
    "print(x)\n",
    "x = 5.5\n",
    "y = 3\n",
    "print(x+y)\n",
    "print(x-y)\n",
    "print(x*y)\n",
    "print(x/y)\n",
    "print(x*x-y)"
   ]
  },
  {
   "cell_type": "code",
   "execution_count": 22,
   "id": "5f063fa5-3e90-447e-b44d-11d6878d0c5f",
   "metadata": {},
   "outputs": [
    {
     "name": "stdout",
     "output_type": "stream",
     "text": [
      "Este es un valor de un entero  5\n",
      "Este es un valor de un String  hola mundo\n",
      "La suma del valor de x + y es:  8.5\n",
      "La resta de x - y es:  2.5\n",
      "La multiplicación de x * y es:  16.5\n",
      "La división de x/y es:  1.8333333333333333\n",
      "Una operación de x*x-y es:  27.25\n"
     ]
    }
   ],
   "source": [
    "# Ejemplos del uso de variables\n",
    "x = 5\n",
    "print(\"Este es un valor de un entero \", x)\n",
    "x = \"hola mundo\"\n",
    "print(\"Este es un valor de un String \", x)\n",
    "x = 5.5\n",
    "y = 3\n",
    "\n",
    "print(\"La suma del valor de x + y es: \", x+y)\n",
    "print(\"La resta de x - y es: \", x-y)\n",
    "print(\"La multiplicación de x * y es: \", x*y)\n",
    "print(\"La división de x/y es: \", x/y)\n",
    "print(\"Una operación de x*x-y es: \", x*x-y)"
   ]
  },
  {
   "cell_type": "code",
   "execution_count": null,
   "id": "32fcad3c-643f-4bae-8149-434b6ca55f06",
   "metadata": {},
   "outputs": [],
   "source": []
  }
 ],
 "metadata": {
  "kernelspec": {
   "display_name": "Python 3",
   "language": "python",
   "name": "python3"
  },
  "language_info": {
   "codemirror_mode": {
    "name": "ipython",
    "version": 3
   },
   "file_extension": ".py",
   "mimetype": "text/x-python",
   "name": "python",
   "nbconvert_exporter": "python",
   "pygments_lexer": "ipython3",
   "version": "3.7.8"
  }
 },
 "nbformat": 4,
 "nbformat_minor": 5
}
