{
 "cells": [
  {
   "cell_type": "markdown",
   "id": "8c1be238",
   "metadata": {},
   "source": [
    "### Instituto Tecnológico Superior de San Luis Potosí, Capital. ###\n",
    "![Logo ITSSLPC](images/logo2tec.jpg \"ITSSLPC\")\n",
    "\n",
    "# Taller de Python Básico\n",
    "## ITSSLPC-ISC\n",
    "## XXII Convivio Computacional\n",
    "![Logo Convivio](images/XXII_convivio.png \"XXII Convivio Computacional\")\n",
    "\n",
    "\n",
    "[XXII Convivio Computacional](https://robo-tics-slp.net/convivio)\n",
    "\n",
    "\n",
    "[Apuntes para instalar Python](https://robo-tics-slp.net/ecuaciones/Atlatl/Atlatl_03.html)\n",
    "\n",
    "##### Noviembre 22, 2021"
   ]
  },
  {
   "cell_type": "markdown",
   "id": "01c5fd80",
   "metadata": {},
   "source": [
    "### Python\n",
    "\n",
    "**Python** es un lenguaje de programación interpretado cuya filosofía hace hincapié en la legibilidad de su código.\n",
    "\n",
    "Se trata de un lenguaje de _programación multiparadigma_, ya que soporta parcialmente la orientación a objetos, programación imperativa y, en menor medida, programación funcional. \n",
    "\n",
    "Es un lenguaje interpretado, dinámico y multiplataforma.\n",
    "\n",
    "\n",
    "#### Un poco de historia\n",
    "\n",
    "Python fue creado a finales de los ochenta por **Guido van Rossum** en el **Centro para las Matemáticas y la Informática** (CWI, Centrum Wiskunde & Informatica), en los Países Bajos, como un sucesor del lenguaje de programación ABC, capaz de manejar excepciones e interactuar con el sistema operativo Amoeba.\n",
    "\n",
    "El nombre del lenguaje proviene de la afición de su creador por los humoristas británicos **Monty Python**\n",
    "\n",
    "[Ref](https://es.wikipedia.org/wiki/Python)\n",
    "\n"
   ]
  },
  {
   "cell_type": "markdown",
   "id": "5b45a8ec",
   "metadata": {},
   "source": [
    "### Uso del print"
   ]
  },
  {
   "cell_type": "code",
   "execution_count": 1,
   "id": "2ac8da39",
   "metadata": {},
   "outputs": [
    {
     "name": "stdout",
     "output_type": "stream",
     "text": [
      "Hola, mundo!\n"
     ]
    }
   ],
   "source": [
    "# Este codigo necesita imprimir \"Hola, mundo!\"\n",
    "print (\"Hola, mundo!\")"
   ]
  },
  {
   "cell_type": "markdown",
   "id": "6153805d",
   "metadata": {},
   "source": [
    "### Solicitar datos"
   ]
  },
  {
   "cell_type": "code",
   "execution_count": 2,
   "id": "23205a9e",
   "metadata": {},
   "outputs": [
    {
     "name": "stdout",
     "output_type": "stream",
     "text": [
      "¿Cúal es tú nombre?\n",
      "nombre\n",
      "Me alegro de conocerle  nombre\n"
     ]
    }
   ],
   "source": [
    "print(\"¿Cúal es tú nombre?\")\n",
    "nombre = input()\n",
    "print(\"Me alegro de conocerle \", nombre)"
   ]
  },
  {
   "cell_type": "code",
   "execution_count": 3,
   "id": "81943624",
   "metadata": {},
   "outputs": [
    {
     "name": "stdout",
     "output_type": "stream",
     "text": [
      "Ingresa un dato: dato\n",
      "Has insertado  dato\n"
     ]
    }
   ],
   "source": [
    "# Pedir datos\n",
    "dato = input(\"Ingresa un dato: \")\n",
    "print(\"Has insertado \", dato)"
   ]
  },
  {
   "cell_type": "code",
   "execution_count": null,
   "id": "328e26ad",
   "metadata": {},
   "outputs": [],
   "source": [
    "dato = int(input(\"Ingresa un numero: \"))\n",
    "print(\"Has insertado \", dato)"
   ]
  },
  {
   "cell_type": "code",
   "execution_count": null,
   "id": "5847cbe5",
   "metadata": {},
   "outputs": [],
   "source": [
    "dato = float(input(\"Ingresa un numero: \"))\n",
    "print(\"Has insertado \", dato)"
   ]
  },
  {
   "cell_type": "code",
   "execution_count": null,
   "id": "8c802e39",
   "metadata": {},
   "outputs": [],
   "source": [
    "nombre = input() #Acá el usuario ya sabe qué debe ingresar\n",
    "print(\"Bienvenido al sistema \", nombre, \" Gracias !!! \")"
   ]
  },
  {
   "cell_type": "markdown",
   "id": "99b20cee",
   "metadata": {},
   "source": [
    "### suma de números"
   ]
  },
  {
   "cell_type": "code",
   "execution_count": 4,
   "id": "02879775",
   "metadata": {},
   "outputs": [
    {
     "name": "stdout",
     "output_type": "stream",
     "text": [
      "Dame el valor de x: 2\n",
      "Dame el valor de y: 3\n",
      "La suma de 2 más 3 es:  5.0\n"
     ]
    }
   ],
   "source": [
    "# Programa para hacer la suma de dos números\n",
    "x = input('Dame el valor de x: ')\n",
    "y = input('Dame el valor de y: ')\n",
    "\n",
    "# realizar la suma\n",
    "total = float(x) + float(y)\n",
    "\n",
    "# Imprime el resultado\n",
    "print('La suma de',x, 'más', y, \"es: \", total)"
   ]
  },
  {
   "cell_type": "code",
   "execution_count": 5,
   "id": "544406f2",
   "metadata": {},
   "outputs": [
    {
     "name": "stdout",
     "output_type": "stream",
     "text": [
      "Dame el valor de x: 2\n",
      "Dame el valor de y: 3\n",
      "La suma es 5.0\n"
     ]
    }
   ],
   "source": [
    "print('La suma es %.1f' %(float(input('Dame el valor de x: ')) + float(input('Dame el valor de y: '))))"
   ]
  },
  {
   "cell_type": "markdown",
   "id": "0ef2234f",
   "metadata": {},
   "source": [
    "### Uso del IF"
   ]
  },
  {
   "cell_type": "code",
   "execution_count": null,
   "id": "c1394f8f",
   "metadata": {},
   "outputs": [],
   "source": [
    "x = 20\n",
    "if x == 20:\n",
    "    print(\"El valor de x es igual a 20\")"
   ]
  },
  {
   "cell_type": "code",
   "execution_count": null,
   "id": "5496f7bf",
   "metadata": {},
   "outputs": [],
   "source": [
    "x = 20.00\n",
    "if x == 20:\n",
    "    print(\"El valor de x es igual a 20\")"
   ]
  },
  {
   "cell_type": "code",
   "execution_count": null,
   "id": "450c1a52",
   "metadata": {},
   "outputs": [],
   "source": [
    "x = 20.01\n",
    "if x == 20:\n",
    "    print(\"El valor de x es igual a 20\")"
   ]
  },
  {
   "cell_type": "code",
   "execution_count": null,
   "id": "d60d6037",
   "metadata": {},
   "outputs": [],
   "source": [
    "x = 20.01\n",
    "if x == 20:\n",
    "    print(\"El valor de x es igual a 20\")\n",
    "else:\n",
    "    print(\"El valor de x no es igual a 20\")"
   ]
  },
  {
   "cell_type": "code",
   "execution_count": null,
   "id": "5276fbb7",
   "metadata": {},
   "outputs": [],
   "source": [
    "x = 20.01\n",
    "if x <= 20:\n",
    "    print(\"El valor de x es igual o menor a 20\")\n",
    "else:\n",
    "    print(\"El valor de x es mayor a 20\")"
   ]
  },
  {
   "cell_type": "code",
   "execution_count": null,
   "id": "b5215052",
   "metadata": {},
   "outputs": [],
   "source": [
    "x = 20.00\n",
    "if x <= 20:\n",
    "    print(\"El valor de x es igual o menor a 20\")\n",
    "if x >= 20:\n",
    "    print(\"El valor de x es mayor a 20\")"
   ]
  },
  {
   "cell_type": "code",
   "execution_count": null,
   "id": "0fdac458",
   "metadata": {},
   "outputs": [],
   "source": [
    "x = 20.01\n",
    "if x <= 20:\n",
    "    print(\"El valor de x es igual o menor a 20\")\n",
    "else:\n",
    "    print(\"El valor de x es mayor a 20\")"
   ]
  },
  {
   "cell_type": "code",
   "execution_count": null,
   "id": "8e95cc67",
   "metadata": {},
   "outputs": [],
   "source": [
    "x = 20.00;\n",
    "\n",
    "if x >= 20:\n",
    "    print(\"X es mayor o igual a 20 \")\n",
    "elif x <= 20:\n",
    "    print(\"El valor de x es menor a 20 \")\n",
    "else:\n",
    "    print(\"Condición no considerada \")"
   ]
  },
  {
   "cell_type": "code",
   "execution_count": null,
   "id": "1d5902a1",
   "metadata": {},
   "outputs": [],
   "source": [
    "x = 20.00;\n",
    "\n",
    "if ((x >= 0) and(x <= 20)):\n",
    "    print(\"El valor de X esta entre 0 y 20 \")\n",
    "elif ((x > 20) and (x <= 100)):\n",
    "    print(\"El valor de x es mayor a 20 y menor o igual a 20 \")\n",
    "else:\n",
    "    print(\"El valor de x es mayor a 100 \")"
   ]
  },
  {
   "cell_type": "code",
   "execution_count": null,
   "id": "d187bb00",
   "metadata": {},
   "outputs": [],
   "source": [
    "x = 20.01\n",
    "\n",
    "if ((x >= 0) and(x <= 20)):\n",
    "    print(\"El valor de X esta entre 0 y 20 \")\n",
    "elif ((x > 20) and (x <= 100)):\n",
    "    print(\"El valor de x es mayor a 20 y menor o igual a 20 \")\n",
    "else:\n",
    "    print(\"El valor de x es mayor a 100 \")"
   ]
  },
  {
   "cell_type": "code",
   "execution_count": null,
   "id": "1a336bd5",
   "metadata": {},
   "outputs": [],
   "source": [
    "x = 120.00\n",
    "\n",
    "if ((x >= 0) and(x <= 20)):\n",
    "    print(\"El valor de X esta entre 0 y 20 \")\n",
    "elif ((x > 20) and (x <= 100)):\n",
    "    print(\"El valor de x es mayor a 20 y menor o igual a 20 \")\n",
    "else:\n",
    "    print(\"El valor de x es mayor a 100 \")"
   ]
  },
  {
   "cell_type": "markdown",
   "id": "bef9435a",
   "metadata": {},
   "source": [
    "### Uso del for"
   ]
  },
  {
   "cell_type": "code",
   "execution_count": null,
   "id": "5fc76ded",
   "metadata": {},
   "outputs": [],
   "source": [
    "for i in range(6):\n",
    "    print(i)"
   ]
  },
  {
   "cell_type": "code",
   "execution_count": null,
   "id": "9da13461",
   "metadata": {},
   "outputs": [],
   "source": [
    "for i in range(0, 5):\n",
    "    print(i)"
   ]
  },
  {
   "cell_type": "code",
   "execution_count": null,
   "id": "0abe3bd7",
   "metadata": {},
   "outputs": [],
   "source": [
    "for i in range(0,20,3):\n",
    "    print(i)"
   ]
  },
  {
   "cell_type": "code",
   "execution_count": null,
   "id": "41820a5d",
   "metadata": {},
   "outputs": [],
   "source": [
    "for i in range(60,20,-3):\n",
    "    print(i)"
   ]
  },
  {
   "cell_type": "code",
   "execution_count": null,
   "id": "1b29e7d3",
   "metadata": {},
   "outputs": [],
   "source": [
    "for _ in range(1, 5):\n",
    "    print(\"Holas \")"
   ]
  },
  {
   "cell_type": "code",
   "execution_count": null,
   "id": "34c781d2",
   "metadata": {},
   "outputs": [],
   "source": [
    "for i in \"Python\":\n",
    "    print(i)"
   ]
  },
  {
   "cell_type": "code",
   "execution_count": null,
   "id": "491d185e",
   "metadata": {},
   "outputs": [],
   "source": [
    "for i in range(0, 5):\n",
    "    for j in range(0,3):\n",
    "        print(i, j)"
   ]
  },
  {
   "cell_type": "code",
   "execution_count": null,
   "id": "e45fce97",
   "metadata": {},
   "outputs": [],
   "source": [
    "fruits = [\"apple\", \"banana\", \"cherry\"]\n",
    "for x in fruits:\n",
    "  print(x)"
   ]
  },
  {
   "cell_type": "markdown",
   "id": "f6cb99a1",
   "metadata": {},
   "source": [
    "### Uso de while"
   ]
  },
  {
   "cell_type": "code",
   "execution_count": null,
   "id": "1c4abaa2",
   "metadata": {},
   "outputs": [],
   "source": [
    "x = 5\n",
    "while x > 0:\n",
    "    x -=1\n",
    "    print(x)"
   ]
  },
  {
   "cell_type": "code",
   "execution_count": 10,
   "id": "a9171230",
   "metadata": {},
   "outputs": [
    {
     "name": "stdout",
     "output_type": "stream",
     "text": [
      "La suma es 6\n"
     ]
    }
   ],
   "source": [
    "numero = 0\n",
    "suma=0\n",
    "while numero <= 3:\n",
    "    suma = numero + suma\n",
    "    numero = numero + 1\n",
    "print (\"La suma es \" + str(suma))"
   ]
  },
  {
   "cell_type": "markdown",
   "id": "9b8e52e1",
   "metadata": {},
   "source": [
    "### Números aleatorios"
   ]
  },
  {
   "cell_type": "code",
   "execution_count": null,
   "id": "af5738e7",
   "metadata": {},
   "outputs": [],
   "source": [
    "import random\n",
    "\n",
    "\n",
    "x = random.randint(0, 300)\n",
    "print(x)\n",
    "\n",
    "if ((x >= 0) and(x <= 20)):\n",
    "    print(\"El valor de X esta entre 0 y 20 \")\n",
    "elif ((x > 20) and (x <= 100)):\n",
    "    print(\"El valor de x es mayor a 20 y menor o igual a 20 \")\n",
    "else:\n",
    "    print(\"El valor de x es mayor a 100 \")"
   ]
  },
  {
   "cell_type": "markdown",
   "id": "691e077c",
   "metadata": {},
   "source": [
    "### Práctica\n",
    "\n",
    "### convertir de kilómetros a millas\n",
    "\n",
    "[millas a kilómetros](https://unipython.com/convertir-velocidades-en-python-km-h-a-mph/)\n",
    "\n",
    "#### kilómetro/hora = 0.621371 millas \n",
    "#### 1 milla = 1.60934 Km."
   ]
  },
  {
   "cell_type": "code",
   "execution_count": null,
   "id": "66af5164",
   "metadata": {},
   "outputs": [],
   "source": [
    "# Convertir de kilómetros a millas\n",
    "k = float(input(\"Valor en kilometros: \"))\n",
    "\n",
    "# factor\n",
    "fac = 0.621371\n",
    "\n",
    "# calcular millas\n",
    "millas = k * fac\n",
    "print(k, \" kilómetros son:\", millas, \" millas\")"
   ]
  },
  {
   "cell_type": "code",
   "execution_count": null,
   "id": "35b93edc",
   "metadata": {},
   "outputs": [],
   "source": [
    "# Convertir de kilómetros a millas\n",
    "k = float(input(\"Valor en kilómetros: \"))\n",
    "\n",
    "# factor\n",
    "fac = 0.621371\n",
    "\n",
    "# calcular millas\n",
    "millas = k * fac\n",
    "print(\" %.5f kilómetros son: %.2f millas\" %(k,millas))"
   ]
  },
  {
   "cell_type": "markdown",
   "id": "2ca24b85",
   "metadata": {},
   "source": [
    "### Funciones"
   ]
  },
  {
   "cell_type": "code",
   "execution_count": null,
   "id": "c8c986b1",
   "metadata": {},
   "outputs": [],
   "source": [
    "def saludo():\n",
    "    print(\"Hola Mundo desde una función !!!\")"
   ]
  },
  {
   "cell_type": "code",
   "execution_count": null,
   "id": "44862aa0",
   "metadata": {},
   "outputs": [],
   "source": [
    "def saludos(name):\n",
    "    print(\"Gusto en conocerte\", name)"
   ]
  },
  {
   "cell_type": "code",
   "execution_count": null,
   "id": "5b469ab0",
   "metadata": {},
   "outputs": [],
   "source": [
    "def saludos():\n",
    "    \"\"\"\n",
    "    comentarios\n",
    "    \"\"\"\n",
    "    print(\"Hola mundo con funciones\")"
   ]
  },
  {
   "cell_type": "code",
   "execution_count": null,
   "id": "11c8b0b2",
   "metadata": {},
   "outputs": [],
   "source": [
    "def saludos(nombre):\n",
    "    \"\"\"\n",
    "    Uso de funciones con\n",
    "    parámetro de entrada\n",
    "    \"\"\"\n",
    "    print(\"Hola, \" + nombre + \". Cómo estás? \")"
   ]
  },
  {
   "cell_type": "code",
   "execution_count": null,
   "id": "cdb72307",
   "metadata": {},
   "outputs": [],
   "source": [
    "def absolute_value(num):\n",
    "    \"\"\"This function returns the absolute\n",
    "    value of the entered number\"\"\"\n",
    "\n",
    "    if num >= 0:\n",
    "        return num\n",
    "    else:\n",
    "        return -num"
   ]
  },
  {
   "cell_type": "code",
   "execution_count": null,
   "id": "ad83b818",
   "metadata": {},
   "outputs": [],
   "source": [
    "def saludo_2(name, last_name):\n",
    "    \"\"\"\n",
    "    Esta es una función para imprimir un nombre \n",
    "    \"\"\"\n",
    "    print(\"Cómo estás, \" + name + \" ....\" + last_name)"
   ]
  },
  {
   "cell_type": "code",
   "execution_count": null,
   "id": "223f5099",
   "metadata": {},
   "outputs": [],
   "source": [
    "def greet(name, msg=\"Good morning!\"):\n",
    "    \"\"\"\n",
    "    This function greets to\n",
    "    the person with the\n",
    "    provided message.\n",
    "\n",
    "    If the message is not provided,\n",
    "    it defaults to \"Good\n",
    "    morning!\"\n",
    "    \"\"\"\n",
    "\n",
    "    print(\"Hello\", name + ', ' + msg)\n"
   ]
  },
  {
   "cell_type": "code",
   "execution_count": null,
   "id": "39e7cf71",
   "metadata": {},
   "outputs": [],
   "source": [
    "def greet(*names):\n",
    "    \"\"\"This function greets all\n",
    "    the person in the names tuple.\"\"\"\n",
    "\n",
    "    # names is a tuple with arguments\n",
    "    for name in names:\n",
    "        print(\"Hello\", name)\n",
    "\n",
    "\n",
    "greet(\"Monica\", \"Luke\", \"Steve\", \"John\")"
   ]
  },
  {
   "cell_type": "code",
   "execution_count": null,
   "id": "aab74dc8",
   "metadata": {},
   "outputs": [],
   "source": [
    "def factorial(x):\n",
    "    \"\"\"This is a recursive function\n",
    "    to find the factorial of an integer\"\"\"\n",
    "\n",
    "    if x == 1:\n",
    "        return 1\n",
    "    else:\n",
    "        return (x * factorial(x-1))\n",
    "\n",
    "\n",
    "num = 3\n",
    "print(\"The factorial of\", num, \"is\", factorial(num))"
   ]
  },
  {
   "cell_type": "markdown",
   "id": "c27b9872",
   "metadata": {},
   "source": [
    "### Practica"
   ]
  },
  {
   "cell_type": "code",
   "execution_count": 11,
   "id": "87eed165",
   "metadata": {},
   "outputs": [
    {
     "name": "stdout",
     "output_type": "stream",
     "text": [
      "-----------------\n",
      "Menu del programa\n",
      "1.- Suma\n",
      "2.- Resta \n",
      "3.- Multiplicación \n",
      "4.- Índice de Masa Corporal\n",
      "5.- Salir \n",
      "-----------\n",
      "Dame tú opción 5\n",
      "Gracias !!! \n"
     ]
    }
   ],
   "source": [
    "# calculadora (+,-,*)\n",
    "# calcular el índice de masa coprporal con uso de funciones\n",
    "# mejorar el programa con el uso del elif y else\n",
    "# ámbito del while\n",
    "\n",
    "def checa_bmi(bmi):\n",
    "    if bmi < 18.5:\n",
    "        print(\"Peso bajo, necesitas comer tacos\")\n",
    "    elif ( (bmi >= 18.5) and (bmi <= 24.9)):\n",
    "        print(\"Sigue así campeón(a)\")\n",
    "\n",
    "\n",
    "\n",
    "respuesta = \"s\"\n",
    "while respuesta == \"s\":\n",
    "    print(\"-----------------\")\n",
    "    print(\"Menu del programa\")\n",
    "    print(\"1.- Suma\")\n",
    "    print(\"2.- Resta \")\n",
    "    print(\"3.- Multiplicación \")\n",
    "    print(\"4.- Índice de Masa Corporal\")\n",
    "    print(\"5.- Salir \")\n",
    "    print(\"-----------\")\n",
    "    opcion = int(input(\"Dame tú opción \"))\n",
    "    \n",
    "    if opcion == 1:\n",
    "        print(\"Opción de suma\")\n",
    "        a = float(input(\"Dame el valor de a\"))\n",
    "        b = float(input(\"Dame el valor de b\"))\n",
    "        c = a + b\n",
    "        print(\"El resultado es:\", c)\n",
    "     \n",
    "    elif opcion == 2:\n",
    "        print(\"Opción de resta\")\n",
    "        a = float(input(\"Dame el valor de a\"))\n",
    "        b = float(input(\"Dame el valor de b\"))\n",
    "        c = a - b\n",
    "        print(\"El resultado es:\", c)\n",
    "    \n",
    "    elif opcion == 3:\n",
    "        print(\"Opción de multiplicación\")\n",
    "        a = float(input(\"Dame el valor de a\"))\n",
    "        b = float(input(\"Dame el valor de b\"))\n",
    "        c = a * b\n",
    "        print(\"El resultado es:\", c)\n",
    "        \n",
    "    elif opcion == 4:\n",
    "        print(\"Índice de Masa Corporal\")\n",
    "        w = float(input(\"Dame tú peso en kilogramos\"))\n",
    "        h = float(input(\"Dame tú estatura en centrímetros\"))\n",
    "        bmi = w / ((h/100) **2)\n",
    "        print(\"Tú índice de masa corporal es:\", bmi)\n",
    "        checa_bmi(bmi)\n",
    "        \n",
    "                \n",
    "    elif opcion == 5:\n",
    "        print(\"Gracias !!! \")\n",
    "        respuesta = \"n\"\n",
    "        \n",
    "    else:\n",
    "        print(\"Las opciones válidas son del 1 al 5\")\n",
    "        print(\"Vuelve a dar tú opción\")"
   ]
  },
  {
   "cell_type": "markdown",
   "id": "63bf11ac",
   "metadata": {},
   "source": [
    "### Práctica "
   ]
  },
  {
   "cell_type": "code",
   "execution_count": null,
   "id": "35b3fbda",
   "metadata": {},
   "outputs": [],
   "source": [
    "# Convertir de grados centifrados a fahrenheit\n",
    "\n",
    "\n",
    "def fahrenheit_celsius():\n",
    "    '''convierte temperatura en grados fahrenheit a grados celsius'''\n",
    "\n",
    "    fahrenheit = int(input('Ingrese la temperatura en grados Fahrenheit: '))\n",
    "    celsius = (fahrenheit -32 ) * 5.0/9.0\n",
    "    return '{} grados Fahrenheit son {} grados Celsius'.format(fahrenheit, celsius)\n",
    "\n",
    "def celsius_fahrenheit():\n",
    "    '''convierte temperatura en grados celsius a fahrenheit'''\n",
    "\n",
    "    celsius = int(input('Ingrese la temperatura en grados Celsius: '))\n",
    "    fahrenheit = 9.0/5.0 * celsius +32\n",
    "    return '{} grados Celsius son {} grados Fahrenheit'.format(celsius, fahrenheit)\n",
    "\n",
    "while True:\n",
    "    print('1.- Fahrenheit a Celsius')\n",
    "    print('2.- Celsius a Fahrenheit')\n",
    "\n",
    "    try:\n",
    "        opcion = int(input('Seleccione una opción: '))\n",
    "        if opcion == 1:\n",
    "            print(fahrenheit_celsius())\n",
    "        elif opcion == 2:\n",
    "            print(celsius_fahrenheit())\n",
    "        elif opcion == 3:\n",
    "            print('Hasta luego')\n",
    "        else:\n",
    "            raise ValueError\n",
    "    except ValueError:\n",
    "        print('Ingrese solo números.(1/2)')"
   ]
  },
  {
   "cell_type": "markdown",
   "id": "8e491ac2",
   "metadata": {},
   "source": [
    "### Juegos"
   ]
  },
  {
   "cell_type": "code",
   "execution_count": null,
   "id": "c0934abe",
   "metadata": {},
   "outputs": [],
   "source": [
    "# https://www.freecodecamp.org/news/python-f-strings-tutorial-how-to-use-f-strings-for-string-formatting/\n",
    "\n",
    "import random\n",
    "\n",
    "def adivina(x):\n",
    "    random_number = random.randint(1, x)\n",
    "    guess = 0\n",
    "    while guess != random_number:\n",
    "        guess = int(input(f'Dame un número entre 1 y  {x}: '))\n",
    "        if guess < random_number:\n",
    "            print('Muy bajo')\n",
    "        elif guess > random_number:\n",
    "            print('Muy alto')\n",
    "\n",
    "    #print(f'Excelente. Adivinaste el número {random_number} correctamente !!')\n",
    "    print('Excelente. Adivinaste el número', random_number, 'correctamente !!')\n",
    "\n",
    "\n",
    "\n",
    "\n",
    "adivina(10)"
   ]
  },
  {
   "cell_type": "code",
   "execution_count": null,
   "id": "1807f43f",
   "metadata": {},
   "outputs": [],
   "source": [
    "# referencia: https://www.codigopiton.com/como-hacer-el-juego-del-ahorcado-en-python/\n",
    "\n",
    "import random\n",
    "\n",
    "escenario = \\\n",
    "    '''   \n",
    "~~~~~~~~~|~\n",
    "         |\n",
    " 0123456 J    \n",
    "~~~~~~~~~~~   \n",
    "'''\n",
    "\n",
    "simbolos = '><(((º>'\n",
    "\n",
    "\n",
    "def bienvenida():\n",
    "    print('*' * 68)\n",
    "    print('* Te doy la bienvenida al juego del ahorcado de codigopiton.com :) *')\n",
    "    print('*' * 68)\n",
    "\n",
    "\n",
    "# paso 1\n",
    "def inicializar_juego(diccionario):\n",
    "    palabra = random.choice(diccionario).lower()\n",
    "    tablero = ['_'] * len(palabra)\n",
    "    return tablero, palabra, []\n",
    "\n",
    "\n",
    "# paso 2\n",
    "def mostrar_escenario(errores):\n",
    "    escena = escenario\n",
    "    for i in range(0, len(simbolos)):\n",
    "        simbolo = simbolos[i] if i < errores else ' '\n",
    "        escena = escena.replace(str(i), simbolo)\n",
    "    print(escena)\n",
    "\n",
    "\n",
    "# paso 3\n",
    "def mostrar_tablero(tablero, letras_erroneas):\n",
    "    for casilla in tablero:\n",
    "        print(casilla, end=' ')\n",
    "    print()\n",
    "    print()\n",
    "    if len(letras_erroneas) > 0:\n",
    "        print('Letras erróneas:', *letras_erroneas)\n",
    "        print()\n",
    "\n",
    "\n",
    "# paso 4\n",
    "def pedir_letra(tablero, letras_erroneas):\n",
    "    valida = False\n",
    "    while not valida:\n",
    "        letra = input('Introduce una letra (a-z): ').lower()\n",
    "        valida = 'a' <= letra <= 'z' and len(letra) == 1 # es una letra\n",
    "        if not valida:\n",
    "            print('Error, la letra tiene que estar entre a y z.')\n",
    "        else:\n",
    "            valida = letra not in tablero + letras_erroneas\n",
    "            if not valida:\n",
    "                print('Letra repetida, prueba con otra.')\n",
    "\n",
    "    return letra\n",
    "\n",
    "\n",
    "# paso 5\n",
    "def procesar_letra(letra, palabra, tablero, letras_erroneas):\n",
    "    if letra in palabra:\n",
    "        print('¡Genial! Has acertado una letra.')\n",
    "        actualizar_tablero(letra, palabra, tablero)\n",
    "    else:\n",
    "        print('¡Oh! Has fallado.')\n",
    "        letras_erroneas.append(letra)\n",
    "\n",
    "\n",
    "# paso 5 (auxiliar)\n",
    "def actualizar_tablero(letra, palabra, tablero):\n",
    "    for indice, letra_palabra in enumerate(palabra):\n",
    "        if letra == letra_palabra:\n",
    "            tablero[indice] = letra\n",
    "\n",
    "\n",
    "# paso 6\n",
    "def comprobar_palabra(tablero):\n",
    "    return '_' not in tablero\n",
    "\n",
    "\n",
    "# bucle principal de juego\n",
    "def jugar_al_ahorcado(diccionario):\n",
    "\n",
    "    tablero, palabra, letras_erroneas = inicializar_juego(diccionario)  # paso 1\n",
    "    while len(letras_erroneas) < len(simbolos):  # pasos 7 y 8\n",
    "        mostrar_escenario(len(letras_erroneas))  # paso 2\n",
    "        mostrar_tablero(tablero, letras_erroneas)  # paso 3\n",
    "        letra = pedir_letra(tablero, letras_erroneas)  # paso 4\n",
    "        procesar_letra(letra, palabra, tablero, letras_erroneas)  # paso 5\n",
    "        if comprobar_palabra(tablero):  # paso 6\n",
    "            print('¡Enhorabuena, lo has logrado!')\n",
    "            break\n",
    "    else:\n",
    "        print(f'¡Lo siento! ¡Has perdido! La palabra a adivinar era {palabra}.')\n",
    "        mostrar_escenario(len(letras_erroneas))  # paso 7\n",
    "\n",
    "    mostrar_tablero(tablero, letras_erroneas)\n",
    "\n",
    "\n",
    "def jugar_otra_vez():\n",
    "    return input('Deseas jugar otra vez (introduce s para sí o cualquier otra cosa para no): ')\n",
    "\n",
    "\n",
    "def despedida():\n",
    "    print('*' * 68)\n",
    "    print('* Gracias por jugar al ahorcado de codigopiton.com. ¡Hasta pronto! *')\n",
    "    print('*' * 68)\n",
    "\n",
    "\n",
    "if __name__ == '__main__':\n",
    "\n",
    "    diccionario = ['casa', 'pescado', 'calamar', 'monigote', 'codigopiton']\n",
    "\n",
    "    bienvenida()\n",
    "    while True:\n",
    "        jugar_al_ahorcado(diccionario)\n",
    "        if jugar_otra_vez() != 's': break\n",
    "    despedida()"
   ]
  }
 ],
 "metadata": {
  "kernelspec": {
   "display_name": "Python 3 (ipykernel)",
   "language": "python",
   "name": "python3"
  },
  "language_info": {
   "codemirror_mode": {
    "name": "ipython",
    "version": 3
   },
   "file_extension": ".py",
   "mimetype": "text/x-python",
   "name": "python",
   "nbconvert_exporter": "python",
   "pygments_lexer": "ipython3",
   "version": "3.9.6"
  }
 },
 "nbformat": 4,
 "nbformat_minor": 5
}
